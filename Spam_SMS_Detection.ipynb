{
  "cells": [
    {
      "cell_type": "code",
      "execution_count": 1,
      "metadata": {
        "id": "5GBWfsXZpvP5"
      },
      "outputs": [],
      "source": [
        "import pandas as pd\n",
        "import numpy as np\n",
        "import matplotlib.pyplot as plt\n",
        "import seaborn as sns\n",
        "import scipy.stats as stats"
      ]
    },
    {
      "cell_type": "code",
      "execution_count": null,
      "metadata": {
        "id": "8Zen6y-orX-p"
      },
      "outputs": [],
      "source": [
        "ds = pd.read_csv(\"/content/spam.csv\", encoding='latin-1')"
      ]
    },
    {
      "cell_type": "code",
      "execution_count": 3,
      "metadata": {
        "colab": {
          "base_uri": "https://localhost:8080/"
        },
        "id": "L_0bj1gmrYA1",
        "outputId": "4b4a59c5-a125-410e-8de9-3250dc3f4f8e"
      },
      "outputs": [
        {
          "data": {
            "text/plain": [
              "(5572, 5)"
            ]
          },
          "execution_count": 3,
          "metadata": {},
          "output_type": "execute_result"
        }
      ],
      "source": [
        "ds.shape"
      ]
    },
    {
      "cell_type": "code",
      "execution_count": 4,
      "metadata": {
        "colab": {
          "base_uri": "https://localhost:8080/",
          "height": 174
        },
        "id": "tVbZPd8vrYC_",
        "outputId": "1fecfe0c-ca63-4f37-c395-31c7b8064aeb"
      },
      "outputs": [
        {
          "data": {
            "application/vnd.google.colaboratory.intrinsic+json": {
              "summary": "{\n  \"name\": \"ds\",\n  \"rows\": 4,\n  \"fields\": [\n    {\n      \"column\": \"v1\",\n      \"properties\": {\n        \"dtype\": \"string\",\n        \"num_unique_values\": 4,\n        \"samples\": [\n          2,\n          \"4825\",\n          \"5572\"\n        ],\n        \"semantic_type\": \"\",\n        \"description\": \"\"\n      }\n    },\n    {\n      \"column\": \"v2\",\n      \"properties\": {\n        \"dtype\": \"string\",\n        \"num_unique_values\": 4,\n        \"samples\": [\n          5169,\n          \"30\",\n          \"5572\"\n        ],\n        \"semantic_type\": \"\",\n        \"description\": \"\"\n      }\n    },\n    {\n      \"column\": \"Unnamed: 2\",\n      \"properties\": {\n        \"dtype\": \"string\",\n        \"num_unique_values\": 4,\n        \"samples\": [\n          43,\n          \"3\",\n          \"50\"\n        ],\n        \"semantic_type\": \"\",\n        \"description\": \"\"\n      }\n    },\n    {\n      \"column\": \"Unnamed: 3\",\n      \"properties\": {\n        \"dtype\": \"string\",\n        \"num_unique_values\": 4,\n        \"samples\": [\n          10,\n          \"2\",\n          \"12\"\n        ],\n        \"semantic_type\": \"\",\n        \"description\": \"\"\n      }\n    },\n    {\n      \"column\": \"Unnamed: 4\",\n      \"properties\": {\n        \"dtype\": \"string\",\n        \"num_unique_values\": 4,\n        \"samples\": [\n          5,\n          \"2\",\n          \"6\"\n        ],\n        \"semantic_type\": \"\",\n        \"description\": \"\"\n      }\n    }\n  ]\n}",
              "type": "dataframe"
            },
            "text/html": [
              "\n",
              "  <div id=\"df-f7dcd47b-813a-49c6-94ea-8ac1397a5e4f\" class=\"colab-df-container\">\n",
              "    <div>\n",
              "<style scoped>\n",
              "    .dataframe tbody tr th:only-of-type {\n",
              "        vertical-align: middle;\n",
              "    }\n",
              "\n",
              "    .dataframe tbody tr th {\n",
              "        vertical-align: top;\n",
              "    }\n",
              "\n",
              "    .dataframe thead th {\n",
              "        text-align: right;\n",
              "    }\n",
              "</style>\n",
              "<table border=\"1\" class=\"dataframe\">\n",
              "  <thead>\n",
              "    <tr style=\"text-align: right;\">\n",
              "      <th></th>\n",
              "      <th>v1</th>\n",
              "      <th>v2</th>\n",
              "      <th>Unnamed: 2</th>\n",
              "      <th>Unnamed: 3</th>\n",
              "      <th>Unnamed: 4</th>\n",
              "    </tr>\n",
              "  </thead>\n",
              "  <tbody>\n",
              "    <tr>\n",
              "      <th>count</th>\n",
              "      <td>5572</td>\n",
              "      <td>5572</td>\n",
              "      <td>50</td>\n",
              "      <td>12</td>\n",
              "      <td>6</td>\n",
              "    </tr>\n",
              "    <tr>\n",
              "      <th>unique</th>\n",
              "      <td>2</td>\n",
              "      <td>5169</td>\n",
              "      <td>43</td>\n",
              "      <td>10</td>\n",
              "      <td>5</td>\n",
              "    </tr>\n",
              "    <tr>\n",
              "      <th>top</th>\n",
              "      <td>ham</td>\n",
              "      <td>Sorry, I'll call later</td>\n",
              "      <td>bt not his girlfrnd... G o o d n i g h t . . .@\"</td>\n",
              "      <td>MK17 92H. 450Ppw 16\"</td>\n",
              "      <td>GNT:-)\"</td>\n",
              "    </tr>\n",
              "    <tr>\n",
              "      <th>freq</th>\n",
              "      <td>4825</td>\n",
              "      <td>30</td>\n",
              "      <td>3</td>\n",
              "      <td>2</td>\n",
              "      <td>2</td>\n",
              "    </tr>\n",
              "  </tbody>\n",
              "</table>\n",
              "</div>\n",
              "    <div class=\"colab-df-buttons\">\n",
              "\n",
              "  <div class=\"colab-df-container\">\n",
              "    <button class=\"colab-df-convert\" onclick=\"convertToInteractive('df-f7dcd47b-813a-49c6-94ea-8ac1397a5e4f')\"\n",
              "            title=\"Convert this dataframe to an interactive table.\"\n",
              "            style=\"display:none;\">\n",
              "\n",
              "  <svg xmlns=\"http://www.w3.org/2000/svg\" height=\"24px\" viewBox=\"0 -960 960 960\">\n",
              "    <path d=\"M120-120v-720h720v720H120Zm60-500h600v-160H180v160Zm220 220h160v-160H400v160Zm0 220h160v-160H400v160ZM180-400h160v-160H180v160Zm440 0h160v-160H620v160ZM180-180h160v-160H180v160Zm440 0h160v-160H620v160Z\"/>\n",
              "  </svg>\n",
              "    </button>\n",
              "\n",
              "  <style>\n",
              "    .colab-df-container {\n",
              "      display:flex;\n",
              "      gap: 12px;\n",
              "    }\n",
              "\n",
              "    .colab-df-convert {\n",
              "      background-color: #E8F0FE;\n",
              "      border: none;\n",
              "      border-radius: 50%;\n",
              "      cursor: pointer;\n",
              "      display: none;\n",
              "      fill: #1967D2;\n",
              "      height: 32px;\n",
              "      padding: 0 0 0 0;\n",
              "      width: 32px;\n",
              "    }\n",
              "\n",
              "    .colab-df-convert:hover {\n",
              "      background-color: #E2EBFA;\n",
              "      box-shadow: 0px 1px 2px rgba(60, 64, 67, 0.3), 0px 1px 3px 1px rgba(60, 64, 67, 0.15);\n",
              "      fill: #174EA6;\n",
              "    }\n",
              "\n",
              "    .colab-df-buttons div {\n",
              "      margin-bottom: 4px;\n",
              "    }\n",
              "\n",
              "    [theme=dark] .colab-df-convert {\n",
              "      background-color: #3B4455;\n",
              "      fill: #D2E3FC;\n",
              "    }\n",
              "\n",
              "    [theme=dark] .colab-df-convert:hover {\n",
              "      background-color: #434B5C;\n",
              "      box-shadow: 0px 1px 3px 1px rgba(0, 0, 0, 0.15);\n",
              "      filter: drop-shadow(0px 1px 2px rgba(0, 0, 0, 0.3));\n",
              "      fill: #FFFFFF;\n",
              "    }\n",
              "  </style>\n",
              "\n",
              "    <script>\n",
              "      const buttonEl =\n",
              "        document.querySelector('#df-f7dcd47b-813a-49c6-94ea-8ac1397a5e4f button.colab-df-convert');\n",
              "      buttonEl.style.display =\n",
              "        google.colab.kernel.accessAllowed ? 'block' : 'none';\n",
              "\n",
              "      async function convertToInteractive(key) {\n",
              "        const element = document.querySelector('#df-f7dcd47b-813a-49c6-94ea-8ac1397a5e4f');\n",
              "        const dataTable =\n",
              "          await google.colab.kernel.invokeFunction('convertToInteractive',\n",
              "                                                    [key], {});\n",
              "        if (!dataTable) return;\n",
              "\n",
              "        const docLinkHtml = 'Like what you see? Visit the ' +\n",
              "          '<a target=\"_blank\" href=https://colab.research.google.com/notebooks/data_table.ipynb>data table notebook</a>'\n",
              "          + ' to learn more about interactive tables.';\n",
              "        element.innerHTML = '';\n",
              "        dataTable['output_type'] = 'display_data';\n",
              "        await google.colab.output.renderOutput(dataTable, element);\n",
              "        const docLink = document.createElement('div');\n",
              "        docLink.innerHTML = docLinkHtml;\n",
              "        element.appendChild(docLink);\n",
              "      }\n",
              "    </script>\n",
              "  </div>\n",
              "\n",
              "\n",
              "<div id=\"df-7768f9e5-ee47-4dc1-ab88-a5c9f1a78d53\">\n",
              "  <button class=\"colab-df-quickchart\" onclick=\"quickchart('df-7768f9e5-ee47-4dc1-ab88-a5c9f1a78d53')\"\n",
              "            title=\"Suggest charts\"\n",
              "            style=\"display:none;\">\n",
              "\n",
              "<svg xmlns=\"http://www.w3.org/2000/svg\" height=\"24px\"viewBox=\"0 0 24 24\"\n",
              "     width=\"24px\">\n",
              "    <g>\n",
              "        <path d=\"M19 3H5c-1.1 0-2 .9-2 2v14c0 1.1.9 2 2 2h14c1.1 0 2-.9 2-2V5c0-1.1-.9-2-2-2zM9 17H7v-7h2v7zm4 0h-2V7h2v10zm4 0h-2v-4h2v4z\"/>\n",
              "    </g>\n",
              "</svg>\n",
              "  </button>\n",
              "\n",
              "<style>\n",
              "  .colab-df-quickchart {\n",
              "      --bg-color: #E8F0FE;\n",
              "      --fill-color: #1967D2;\n",
              "      --hover-bg-color: #E2EBFA;\n",
              "      --hover-fill-color: #174EA6;\n",
              "      --disabled-fill-color: #AAA;\n",
              "      --disabled-bg-color: #DDD;\n",
              "  }\n",
              "\n",
              "  [theme=dark] .colab-df-quickchart {\n",
              "      --bg-color: #3B4455;\n",
              "      --fill-color: #D2E3FC;\n",
              "      --hover-bg-color: #434B5C;\n",
              "      --hover-fill-color: #FFFFFF;\n",
              "      --disabled-bg-color: #3B4455;\n",
              "      --disabled-fill-color: #666;\n",
              "  }\n",
              "\n",
              "  .colab-df-quickchart {\n",
              "    background-color: var(--bg-color);\n",
              "    border: none;\n",
              "    border-radius: 50%;\n",
              "    cursor: pointer;\n",
              "    display: none;\n",
              "    fill: var(--fill-color);\n",
              "    height: 32px;\n",
              "    padding: 0;\n",
              "    width: 32px;\n",
              "  }\n",
              "\n",
              "  .colab-df-quickchart:hover {\n",
              "    background-color: var(--hover-bg-color);\n",
              "    box-shadow: 0 1px 2px rgba(60, 64, 67, 0.3), 0 1px 3px 1px rgba(60, 64, 67, 0.15);\n",
              "    fill: var(--button-hover-fill-color);\n",
              "  }\n",
              "\n",
              "  .colab-df-quickchart-complete:disabled,\n",
              "  .colab-df-quickchart-complete:disabled:hover {\n",
              "    background-color: var(--disabled-bg-color);\n",
              "    fill: var(--disabled-fill-color);\n",
              "    box-shadow: none;\n",
              "  }\n",
              "\n",
              "  .colab-df-spinner {\n",
              "    border: 2px solid var(--fill-color);\n",
              "    border-color: transparent;\n",
              "    border-bottom-color: var(--fill-color);\n",
              "    animation:\n",
              "      spin 1s steps(1) infinite;\n",
              "  }\n",
              "\n",
              "  @keyframes spin {\n",
              "    0% {\n",
              "      border-color: transparent;\n",
              "      border-bottom-color: var(--fill-color);\n",
              "      border-left-color: var(--fill-color);\n",
              "    }\n",
              "    20% {\n",
              "      border-color: transparent;\n",
              "      border-left-color: var(--fill-color);\n",
              "      border-top-color: var(--fill-color);\n",
              "    }\n",
              "    30% {\n",
              "      border-color: transparent;\n",
              "      border-left-color: var(--fill-color);\n",
              "      border-top-color: var(--fill-color);\n",
              "      border-right-color: var(--fill-color);\n",
              "    }\n",
              "    40% {\n",
              "      border-color: transparent;\n",
              "      border-right-color: var(--fill-color);\n",
              "      border-top-color: var(--fill-color);\n",
              "    }\n",
              "    60% {\n",
              "      border-color: transparent;\n",
              "      border-right-color: var(--fill-color);\n",
              "    }\n",
              "    80% {\n",
              "      border-color: transparent;\n",
              "      border-right-color: var(--fill-color);\n",
              "      border-bottom-color: var(--fill-color);\n",
              "    }\n",
              "    90% {\n",
              "      border-color: transparent;\n",
              "      border-bottom-color: var(--fill-color);\n",
              "    }\n",
              "  }\n",
              "</style>\n",
              "\n",
              "  <script>\n",
              "    async function quickchart(key) {\n",
              "      const quickchartButtonEl =\n",
              "        document.querySelector('#' + key + ' button');\n",
              "      quickchartButtonEl.disabled = true;  // To prevent multiple clicks.\n",
              "      quickchartButtonEl.classList.add('colab-df-spinner');\n",
              "      try {\n",
              "        const charts = await google.colab.kernel.invokeFunction(\n",
              "            'suggestCharts', [key], {});\n",
              "      } catch (error) {\n",
              "        console.error('Error during call to suggestCharts:', error);\n",
              "      }\n",
              "      quickchartButtonEl.classList.remove('colab-df-spinner');\n",
              "      quickchartButtonEl.classList.add('colab-df-quickchart-complete');\n",
              "    }\n",
              "    (() => {\n",
              "      let quickchartButtonEl =\n",
              "        document.querySelector('#df-7768f9e5-ee47-4dc1-ab88-a5c9f1a78d53 button');\n",
              "      quickchartButtonEl.style.display =\n",
              "        google.colab.kernel.accessAllowed ? 'block' : 'none';\n",
              "    })();\n",
              "  </script>\n",
              "</div>\n",
              "\n",
              "    </div>\n",
              "  </div>\n"
            ],
            "text/plain": [
              "          v1                      v2  \\\n",
              "count   5572                    5572   \n",
              "unique     2                    5169   \n",
              "top      ham  Sorry, I'll call later   \n",
              "freq    4825                      30   \n",
              "\n",
              "                                               Unnamed: 2  \\\n",
              "count                                                  50   \n",
              "unique                                                 43   \n",
              "top      bt not his girlfrnd... G o o d n i g h t . . .@\"   \n",
              "freq                                                    3   \n",
              "\n",
              "                   Unnamed: 3 Unnamed: 4  \n",
              "count                      12          6  \n",
              "unique                     10          5  \n",
              "top      MK17 92H. 450Ppw 16\"    GNT:-)\"  \n",
              "freq                        2          2  "
            ]
          },
          "execution_count": 4,
          "metadata": {},
          "output_type": "execute_result"
        }
      ],
      "source": [
        "ds.describe()"
      ]
    },
    {
      "cell_type": "code",
      "execution_count": 6,
      "metadata": {
        "colab": {
          "base_uri": "https://localhost:8080/"
        },
        "id": "zSMPrVXhrYFG",
        "outputId": "dd2f8ee6-1dc2-49b4-89bd-3dd9037b56f6"
      },
      "outputs": [
        {
          "name": "stdout",
          "output_type": "stream",
          "text": [
            "<class 'pandas.core.frame.DataFrame'>\n",
            "RangeIndex: 5572 entries, 0 to 5571\n",
            "Data columns (total 5 columns):\n",
            " #   Column      Non-Null Count  Dtype \n",
            "---  ------      --------------  ----- \n",
            " 0   v1          5572 non-null   object\n",
            " 1   v2          5572 non-null   object\n",
            " 2   Unnamed: 2  50 non-null     object\n",
            " 3   Unnamed: 3  12 non-null     object\n",
            " 4   Unnamed: 4  6 non-null      object\n",
            "dtypes: object(5)\n",
            "memory usage: 217.8+ KB\n"
          ]
        }
      ],
      "source": [
        "ds.info()"
      ]
    },
    {
      "cell_type": "code",
      "execution_count": 7,
      "metadata": {
        "colab": {
          "base_uri": "https://localhost:8080/",
          "height": 241
        },
        "id": "42NVUdADrYHM",
        "outputId": "6f3846d2-a878-425f-e928-5acc8c0ae185"
      },
      "outputs": [
        {
          "data": {
            "text/html": [
              "<div>\n",
              "<style scoped>\n",
              "    .dataframe tbody tr th:only-of-type {\n",
              "        vertical-align: middle;\n",
              "    }\n",
              "\n",
              "    .dataframe tbody tr th {\n",
              "        vertical-align: top;\n",
              "    }\n",
              "\n",
              "    .dataframe thead th {\n",
              "        text-align: right;\n",
              "    }\n",
              "</style>\n",
              "<table border=\"1\" class=\"dataframe\">\n",
              "  <thead>\n",
              "    <tr style=\"text-align: right;\">\n",
              "      <th></th>\n",
              "      <th>0</th>\n",
              "    </tr>\n",
              "  </thead>\n",
              "  <tbody>\n",
              "    <tr>\n",
              "      <th>v1</th>\n",
              "      <td>0</td>\n",
              "    </tr>\n",
              "    <tr>\n",
              "      <th>v2</th>\n",
              "      <td>0</td>\n",
              "    </tr>\n",
              "    <tr>\n",
              "      <th>Unnamed: 2</th>\n",
              "      <td>5522</td>\n",
              "    </tr>\n",
              "    <tr>\n",
              "      <th>Unnamed: 3</th>\n",
              "      <td>5560</td>\n",
              "    </tr>\n",
              "    <tr>\n",
              "      <th>Unnamed: 4</th>\n",
              "      <td>5566</td>\n",
              "    </tr>\n",
              "  </tbody>\n",
              "</table>\n",
              "</div><br><label><b>dtype:</b> int64</label>"
            ],
            "text/plain": [
              "v1               0\n",
              "v2               0\n",
              "Unnamed: 2    5522\n",
              "Unnamed: 3    5560\n",
              "Unnamed: 4    5566\n",
              "dtype: int64"
            ]
          },
          "execution_count": 7,
          "metadata": {},
          "output_type": "execute_result"
        }
      ],
      "source": [
        "ds.isnull().sum()"
      ]
    },
    {
      "cell_type": "code",
      "execution_count": 8,
      "metadata": {
        "colab": {
          "base_uri": "https://localhost:8080/",
          "height": 269
        },
        "id": "tgMPyAbXrYJh",
        "outputId": "1adc6ecc-f98c-4c3e-80d5-a363c119e30a"
      },
      "outputs": [
        {
          "data": {
            "application/vnd.google.colaboratory.intrinsic+json": {
              "summary": "{\n  \"name\": \"ds\",\n  \"rows\": 5572,\n  \"fields\": [\n    {\n      \"column\": \"v1\",\n      \"properties\": {\n        \"dtype\": \"category\",\n        \"num_unique_values\": 2,\n        \"samples\": [\n          \"spam\",\n          \"ham\"\n        ],\n        \"semantic_type\": \"\",\n        \"description\": \"\"\n      }\n    },\n    {\n      \"column\": \"v2\",\n      \"properties\": {\n        \"dtype\": \"string\",\n        \"num_unique_values\": 5169,\n        \"samples\": [\n          \"Did u download the fring app?\",\n          \"Pass dis to all ur contacts n see wat u get! Red;i'm in luv wid u. Blue;u put a smile on my face. Purple;u r realy hot. Pink;u r so swt. Orange;i thnk i lyk u. Green;i realy wana go out wid u. Yelow;i wnt u bck. Black;i'm jealous of u. Brown;i miss you Nw plz giv me one color\"\n        ],\n        \"semantic_type\": \"\",\n        \"description\": \"\"\n      }\n    },\n    {\n      \"column\": \"Unnamed: 2\",\n      \"properties\": {\n        \"dtype\": \"category\",\n        \"num_unique_values\": 43,\n        \"samples\": [\n          \" GOD said\",\n          \" SHE SHUDVETOLD U. DID URGRAN KNOW?NEWAY\"\n        ],\n        \"semantic_type\": \"\",\n        \"description\": \"\"\n      }\n    },\n    {\n      \"column\": \"Unnamed: 3\",\n      \"properties\": {\n        \"dtype\": \"category\",\n        \"num_unique_values\": 10,\n        \"samples\": [\n          \" \\\\\\\"OH No! COMPETITION\\\\\\\". Who knew\",\n          \" why to miss them\"\n        ],\n        \"semantic_type\": \"\",\n        \"description\": \"\"\n      }\n    },\n    {\n      \"column\": \"Unnamed: 4\",\n      \"properties\": {\n        \"dtype\": \"category\",\n        \"num_unique_values\": 5,\n        \"samples\": [\n          \"GNT:-)\\\"\",\n          \" one day these two will become FREINDS FOREVER!\\\"\"\n        ],\n        \"semantic_type\": \"\",\n        \"description\": \"\"\n      }\n    }\n  ]\n}",
              "type": "dataframe",
              "variable_name": "ds"
            },
            "text/html": [
              "\n",
              "  <div id=\"df-c59bf496-5abd-4fe2-a17d-29b8057f2557\" class=\"colab-df-container\">\n",
              "    <div>\n",
              "<style scoped>\n",
              "    .dataframe tbody tr th:only-of-type {\n",
              "        vertical-align: middle;\n",
              "    }\n",
              "\n",
              "    .dataframe tbody tr th {\n",
              "        vertical-align: top;\n",
              "    }\n",
              "\n",
              "    .dataframe thead th {\n",
              "        text-align: right;\n",
              "    }\n",
              "</style>\n",
              "<table border=\"1\" class=\"dataframe\">\n",
              "  <thead>\n",
              "    <tr style=\"text-align: right;\">\n",
              "      <th></th>\n",
              "      <th>v1</th>\n",
              "      <th>v2</th>\n",
              "      <th>Unnamed: 2</th>\n",
              "      <th>Unnamed: 3</th>\n",
              "      <th>Unnamed: 4</th>\n",
              "    </tr>\n",
              "  </thead>\n",
              "  <tbody>\n",
              "    <tr>\n",
              "      <th>0</th>\n",
              "      <td>ham</td>\n",
              "      <td>Go until jurong point, crazy.. Available only ...</td>\n",
              "      <td>NaN</td>\n",
              "      <td>NaN</td>\n",
              "      <td>NaN</td>\n",
              "    </tr>\n",
              "    <tr>\n",
              "      <th>1</th>\n",
              "      <td>ham</td>\n",
              "      <td>Ok lar... Joking wif u oni...</td>\n",
              "      <td>NaN</td>\n",
              "      <td>NaN</td>\n",
              "      <td>NaN</td>\n",
              "    </tr>\n",
              "    <tr>\n",
              "      <th>2</th>\n",
              "      <td>spam</td>\n",
              "      <td>Free entry in 2 a wkly comp to win FA Cup fina...</td>\n",
              "      <td>NaN</td>\n",
              "      <td>NaN</td>\n",
              "      <td>NaN</td>\n",
              "    </tr>\n",
              "    <tr>\n",
              "      <th>3</th>\n",
              "      <td>ham</td>\n",
              "      <td>U dun say so early hor... U c already then say...</td>\n",
              "      <td>NaN</td>\n",
              "      <td>NaN</td>\n",
              "      <td>NaN</td>\n",
              "    </tr>\n",
              "    <tr>\n",
              "      <th>4</th>\n",
              "      <td>ham</td>\n",
              "      <td>Nah I don't think he goes to usf, he lives aro...</td>\n",
              "      <td>NaN</td>\n",
              "      <td>NaN</td>\n",
              "      <td>NaN</td>\n",
              "    </tr>\n",
              "    <tr>\n",
              "      <th>5</th>\n",
              "      <td>spam</td>\n",
              "      <td>FreeMsg Hey there darling it's been 3 week's n...</td>\n",
              "      <td>NaN</td>\n",
              "      <td>NaN</td>\n",
              "      <td>NaN</td>\n",
              "    </tr>\n",
              "    <tr>\n",
              "      <th>6</th>\n",
              "      <td>ham</td>\n",
              "      <td>Even my brother is not like to speak with me. ...</td>\n",
              "      <td>NaN</td>\n",
              "      <td>NaN</td>\n",
              "      <td>NaN</td>\n",
              "    </tr>\n",
              "  </tbody>\n",
              "</table>\n",
              "</div>\n",
              "    <div class=\"colab-df-buttons\">\n",
              "\n",
              "  <div class=\"colab-df-container\">\n",
              "    <button class=\"colab-df-convert\" onclick=\"convertToInteractive('df-c59bf496-5abd-4fe2-a17d-29b8057f2557')\"\n",
              "            title=\"Convert this dataframe to an interactive table.\"\n",
              "            style=\"display:none;\">\n",
              "\n",
              "  <svg xmlns=\"http://www.w3.org/2000/svg\" height=\"24px\" viewBox=\"0 -960 960 960\">\n",
              "    <path d=\"M120-120v-720h720v720H120Zm60-500h600v-160H180v160Zm220 220h160v-160H400v160Zm0 220h160v-160H400v160ZM180-400h160v-160H180v160Zm440 0h160v-160H620v160ZM180-180h160v-160H180v160Zm440 0h160v-160H620v160Z\"/>\n",
              "  </svg>\n",
              "    </button>\n",
              "\n",
              "  <style>\n",
              "    .colab-df-container {\n",
              "      display:flex;\n",
              "      gap: 12px;\n",
              "    }\n",
              "\n",
              "    .colab-df-convert {\n",
              "      background-color: #E8F0FE;\n",
              "      border: none;\n",
              "      border-radius: 50%;\n",
              "      cursor: pointer;\n",
              "      display: none;\n",
              "      fill: #1967D2;\n",
              "      height: 32px;\n",
              "      padding: 0 0 0 0;\n",
              "      width: 32px;\n",
              "    }\n",
              "\n",
              "    .colab-df-convert:hover {\n",
              "      background-color: #E2EBFA;\n",
              "      box-shadow: 0px 1px 2px rgba(60, 64, 67, 0.3), 0px 1px 3px 1px rgba(60, 64, 67, 0.15);\n",
              "      fill: #174EA6;\n",
              "    }\n",
              "\n",
              "    .colab-df-buttons div {\n",
              "      margin-bottom: 4px;\n",
              "    }\n",
              "\n",
              "    [theme=dark] .colab-df-convert {\n",
              "      background-color: #3B4455;\n",
              "      fill: #D2E3FC;\n",
              "    }\n",
              "\n",
              "    [theme=dark] .colab-df-convert:hover {\n",
              "      background-color: #434B5C;\n",
              "      box-shadow: 0px 1px 3px 1px rgba(0, 0, 0, 0.15);\n",
              "      filter: drop-shadow(0px 1px 2px rgba(0, 0, 0, 0.3));\n",
              "      fill: #FFFFFF;\n",
              "    }\n",
              "  </style>\n",
              "\n",
              "    <script>\n",
              "      const buttonEl =\n",
              "        document.querySelector('#df-c59bf496-5abd-4fe2-a17d-29b8057f2557 button.colab-df-convert');\n",
              "      buttonEl.style.display =\n",
              "        google.colab.kernel.accessAllowed ? 'block' : 'none';\n",
              "\n",
              "      async function convertToInteractive(key) {\n",
              "        const element = document.querySelector('#df-c59bf496-5abd-4fe2-a17d-29b8057f2557');\n",
              "        const dataTable =\n",
              "          await google.colab.kernel.invokeFunction('convertToInteractive',\n",
              "                                                    [key], {});\n",
              "        if (!dataTable) return;\n",
              "\n",
              "        const docLinkHtml = 'Like what you see? Visit the ' +\n",
              "          '<a target=\"_blank\" href=https://colab.research.google.com/notebooks/data_table.ipynb>data table notebook</a>'\n",
              "          + ' to learn more about interactive tables.';\n",
              "        element.innerHTML = '';\n",
              "        dataTable['output_type'] = 'display_data';\n",
              "        await google.colab.output.renderOutput(dataTable, element);\n",
              "        const docLink = document.createElement('div');\n",
              "        docLink.innerHTML = docLinkHtml;\n",
              "        element.appendChild(docLink);\n",
              "      }\n",
              "    </script>\n",
              "  </div>\n",
              "\n",
              "\n",
              "<div id=\"df-38d13ecb-69a8-4f85-b0a3-8f26dd622e96\">\n",
              "  <button class=\"colab-df-quickchart\" onclick=\"quickchart('df-38d13ecb-69a8-4f85-b0a3-8f26dd622e96')\"\n",
              "            title=\"Suggest charts\"\n",
              "            style=\"display:none;\">\n",
              "\n",
              "<svg xmlns=\"http://www.w3.org/2000/svg\" height=\"24px\"viewBox=\"0 0 24 24\"\n",
              "     width=\"24px\">\n",
              "    <g>\n",
              "        <path d=\"M19 3H5c-1.1 0-2 .9-2 2v14c0 1.1.9 2 2 2h14c1.1 0 2-.9 2-2V5c0-1.1-.9-2-2-2zM9 17H7v-7h2v7zm4 0h-2V7h2v10zm4 0h-2v-4h2v4z\"/>\n",
              "    </g>\n",
              "</svg>\n",
              "  </button>\n",
              "\n",
              "<style>\n",
              "  .colab-df-quickchart {\n",
              "      --bg-color: #E8F0FE;\n",
              "      --fill-color: #1967D2;\n",
              "      --hover-bg-color: #E2EBFA;\n",
              "      --hover-fill-color: #174EA6;\n",
              "      --disabled-fill-color: #AAA;\n",
              "      --disabled-bg-color: #DDD;\n",
              "  }\n",
              "\n",
              "  [theme=dark] .colab-df-quickchart {\n",
              "      --bg-color: #3B4455;\n",
              "      --fill-color: #D2E3FC;\n",
              "      --hover-bg-color: #434B5C;\n",
              "      --hover-fill-color: #FFFFFF;\n",
              "      --disabled-bg-color: #3B4455;\n",
              "      --disabled-fill-color: #666;\n",
              "  }\n",
              "\n",
              "  .colab-df-quickchart {\n",
              "    background-color: var(--bg-color);\n",
              "    border: none;\n",
              "    border-radius: 50%;\n",
              "    cursor: pointer;\n",
              "    display: none;\n",
              "    fill: var(--fill-color);\n",
              "    height: 32px;\n",
              "    padding: 0;\n",
              "    width: 32px;\n",
              "  }\n",
              "\n",
              "  .colab-df-quickchart:hover {\n",
              "    background-color: var(--hover-bg-color);\n",
              "    box-shadow: 0 1px 2px rgba(60, 64, 67, 0.3), 0 1px 3px 1px rgba(60, 64, 67, 0.15);\n",
              "    fill: var(--button-hover-fill-color);\n",
              "  }\n",
              "\n",
              "  .colab-df-quickchart-complete:disabled,\n",
              "  .colab-df-quickchart-complete:disabled:hover {\n",
              "    background-color: var(--disabled-bg-color);\n",
              "    fill: var(--disabled-fill-color);\n",
              "    box-shadow: none;\n",
              "  }\n",
              "\n",
              "  .colab-df-spinner {\n",
              "    border: 2px solid var(--fill-color);\n",
              "    border-color: transparent;\n",
              "    border-bottom-color: var(--fill-color);\n",
              "    animation:\n",
              "      spin 1s steps(1) infinite;\n",
              "  }\n",
              "\n",
              "  @keyframes spin {\n",
              "    0% {\n",
              "      border-color: transparent;\n",
              "      border-bottom-color: var(--fill-color);\n",
              "      border-left-color: var(--fill-color);\n",
              "    }\n",
              "    20% {\n",
              "      border-color: transparent;\n",
              "      border-left-color: var(--fill-color);\n",
              "      border-top-color: var(--fill-color);\n",
              "    }\n",
              "    30% {\n",
              "      border-color: transparent;\n",
              "      border-left-color: var(--fill-color);\n",
              "      border-top-color: var(--fill-color);\n",
              "      border-right-color: var(--fill-color);\n",
              "    }\n",
              "    40% {\n",
              "      border-color: transparent;\n",
              "      border-right-color: var(--fill-color);\n",
              "      border-top-color: var(--fill-color);\n",
              "    }\n",
              "    60% {\n",
              "      border-color: transparent;\n",
              "      border-right-color: var(--fill-color);\n",
              "    }\n",
              "    80% {\n",
              "      border-color: transparent;\n",
              "      border-right-color: var(--fill-color);\n",
              "      border-bottom-color: var(--fill-color);\n",
              "    }\n",
              "    90% {\n",
              "      border-color: transparent;\n",
              "      border-bottom-color: var(--fill-color);\n",
              "    }\n",
              "  }\n",
              "</style>\n",
              "\n",
              "  <script>\n",
              "    async function quickchart(key) {\n",
              "      const quickchartButtonEl =\n",
              "        document.querySelector('#' + key + ' button');\n",
              "      quickchartButtonEl.disabled = true;  // To prevent multiple clicks.\n",
              "      quickchartButtonEl.classList.add('colab-df-spinner');\n",
              "      try {\n",
              "        const charts = await google.colab.kernel.invokeFunction(\n",
              "            'suggestCharts', [key], {});\n",
              "      } catch (error) {\n",
              "        console.error('Error during call to suggestCharts:', error);\n",
              "      }\n",
              "      quickchartButtonEl.classList.remove('colab-df-spinner');\n",
              "      quickchartButtonEl.classList.add('colab-df-quickchart-complete');\n",
              "    }\n",
              "    (() => {\n",
              "      let quickchartButtonEl =\n",
              "        document.querySelector('#df-38d13ecb-69a8-4f85-b0a3-8f26dd622e96 button');\n",
              "      quickchartButtonEl.style.display =\n",
              "        google.colab.kernel.accessAllowed ? 'block' : 'none';\n",
              "    })();\n",
              "  </script>\n",
              "</div>\n",
              "\n",
              "    </div>\n",
              "  </div>\n"
            ],
            "text/plain": [
              "     v1                                                 v2 Unnamed: 2  \\\n",
              "0   ham  Go until jurong point, crazy.. Available only ...        NaN   \n",
              "1   ham                      Ok lar... Joking wif u oni...        NaN   \n",
              "2  spam  Free entry in 2 a wkly comp to win FA Cup fina...        NaN   \n",
              "3   ham  U dun say so early hor... U c already then say...        NaN   \n",
              "4   ham  Nah I don't think he goes to usf, he lives aro...        NaN   \n",
              "5  spam  FreeMsg Hey there darling it's been 3 week's n...        NaN   \n",
              "6   ham  Even my brother is not like to speak with me. ...        NaN   \n",
              "\n",
              "  Unnamed: 3 Unnamed: 4  \n",
              "0        NaN        NaN  \n",
              "1        NaN        NaN  \n",
              "2        NaN        NaN  \n",
              "3        NaN        NaN  \n",
              "4        NaN        NaN  \n",
              "5        NaN        NaN  \n",
              "6        NaN        NaN  "
            ]
          },
          "execution_count": 8,
          "metadata": {},
          "output_type": "execute_result"
        }
      ],
      "source": [
        "ds.head(7)"
      ]
    },
    {
      "cell_type": "code",
      "execution_count": 9,
      "metadata": {
        "id": "wI596u9crYLz"
      },
      "outputs": [],
      "source": [
        "ds.drop(columns=['Unnamed: 2', 'Unnamed: 3', 'Unnamed: 4'], inplace=True)"
      ]
    },
    {
      "cell_type": "code",
      "execution_count": 10,
      "metadata": {
        "id": "Kc-FX89ErYOB"
      },
      "outputs": [],
      "source": [
        "ds.rename(columns = {\"v1\":\"Type\", \"v2\":\"Text\"}, inplace = True)"
      ]
    },
    {
      "cell_type": "code",
      "execution_count": 11,
      "metadata": {
        "colab": {
          "base_uri": "https://localhost:8080/"
        },
        "id": "4zUbeHbArYQN",
        "outputId": "fe7cb3aa-96be-4d8a-fdc0-a774e6f7a838"
      },
      "outputs": [
        {
          "name": "stderr",
          "output_type": "stream",
          "text": [
            "[nltk_data] Downloading package punkt to /root/nltk_data...\n",
            "[nltk_data]   Unzipping tokenizers/punkt.zip.\n",
            "[nltk_data] Downloading package punkt_tab to /root/nltk_data...\n",
            "[nltk_data]   Unzipping tokenizers/punkt_tab.zip.\n",
            "[nltk_data] Downloading package stopwords to /root/nltk_data...\n",
            "[nltk_data]   Unzipping corpora/stopwords.zip.\n"
          ]
        },
        {
          "data": {
            "text/plain": [
              "True"
            ]
          },
          "execution_count": 11,
          "metadata": {},
          "output_type": "execute_result"
        }
      ],
      "source": [
        "import nltk\n",
        "from nltk.tokenize import word_tokenize\n",
        "from nltk.corpus import stopwords\n",
        "from nltk.stem import PorterStemmer\n",
        "import string\n",
        "nltk.download('punkt')\n",
        "nltk.download('punkt_tab')\n",
        "nltk.download('stopwords')"
      ]
    },
    {
      "cell_type": "code",
      "execution_count": 12,
      "metadata": {
        "colab": {
          "base_uri": "https://localhost:8080/"
        },
        "id": "2bE3xBserYS4",
        "outputId": "18f68626-690a-40a7-e868-97dd49a8fa13"
      },
      "outputs": [
        {
          "name": "stdout",
          "output_type": "stream",
          "text": [
            "                                                   Text  \\\n",
            "0     Go until jurong point, crazy.. Available only ...   \n",
            "1                         Ok lar... Joking wif u oni...   \n",
            "2     Free entry in 2 a wkly comp to win FA Cup fina...   \n",
            "3     U dun say so early hor... U c already then say...   \n",
            "4     Nah I don't think he goes to usf, he lives aro...   \n",
            "...                                                 ...   \n",
            "5567  This is the 2nd time we have tried 2 contact u...   \n",
            "5568              Will Ì_ b going to esplanade fr home?   \n",
            "5569  Pity, * was in mood for that. So...any other s...   \n",
            "5570  The guy did some bitching but I acted like i'd...   \n",
            "5571                         Rofl. Its true to its name   \n",
            "\n",
            "                                      Tokenized_Message  \n",
            "0     [Go, until, jurong, point, ,, crazy, .., Avail...  \n",
            "1              [Ok, lar, ..., Joking, wif, u, oni, ...]  \n",
            "2     [Free, entry, in, 2, a, wkly, comp, to, win, F...  \n",
            "3     [U, dun, say, so, early, hor, ..., U, c, alrea...  \n",
            "4     [Nah, I, do, n't, think, he, goes, to, usf, ,,...  \n",
            "...                                                 ...  \n",
            "5567  [This, is, the, 2nd, time, we, have, tried, 2,...  \n",
            "5568   [Will, Ì_, b, going, to, esplanade, fr, home, ?]  \n",
            "5569  [Pity, ,, *, was, in, mood, for, that, ., So, ...  \n",
            "5570  [The, guy, did, some, bitching, but, I, acted,...  \n",
            "5571                [Rofl, ., Its, true, to, its, name]  \n",
            "\n",
            "[5572 rows x 2 columns]\n"
          ]
        }
      ],
      "source": [
        "ds['Tokenized_Message'] = ds['Text'].apply(word_tokenize)\n",
        "\n",
        "print(ds[['Text', 'Tokenized_Message']])"
      ]
    },
    {
      "cell_type": "code",
      "execution_count": 16,
      "metadata": {
        "id": "Daj1ulKGrYVo"
      },
      "outputs": [],
      "source": [
        "stemmer = PorterStemmer()\n",
        "stop_words = set(stopwords.words('english'))"
      ]
    },
    {
      "cell_type": "code",
      "execution_count": 17,
      "metadata": {
        "id": "RsZaRW30rYZO"
      },
      "outputs": [],
      "source": [
        "ds['Cleaned_Message'] = ds['Tokenized_Message'].apply(\n",
        "    lambda tokens: [\n",
        "        stemmer.stem(word.lower()) for word in tokens\n",
        "        if word.lower() not in stop_words and word not in string.punctuation\n",
        "    ]\n",
        ")"
      ]
    },
    {
      "cell_type": "code",
      "execution_count": 18,
      "metadata": {
        "id": "XYZu7quasOCp"
      },
      "outputs": [],
      "source": [
        "from sklearn.feature_extraction.text import TfidfVectorizer\n",
        "vectorizer = TfidfVectorizer(max_features=5000)  # Use top 5000 features\n",
        "features = vectorizer.fit_transform(ds['Cleaned_Message'].apply(lambda x: ' '.join(x)))\n",
        "features_df = pd.DataFrame(features.toarray(), columns=vectorizer.get_feature_names_out())"
      ]
    },
    {
      "cell_type": "code",
      "execution_count": 19,
      "metadata": {
        "colab": {
          "base_uri": "https://localhost:8080/",
          "height": 206
        },
        "id": "1x0VRcsgsOHL",
        "outputId": "14007f2e-68ae-40df-f908-870eeed853cc"
      },
      "outputs": [
        {
          "data": {
            "application/vnd.google.colaboratory.intrinsic+json": {
              "summary": "{\n  \"name\": \"ds\",\n  \"rows\": 5572,\n  \"fields\": [\n    {\n      \"column\": \"Type\",\n      \"properties\": {\n        \"dtype\": \"category\",\n        \"num_unique_values\": 2,\n        \"samples\": [\n          \"spam\",\n          \"ham\"\n        ],\n        \"semantic_type\": \"\",\n        \"description\": \"\"\n      }\n    },\n    {\n      \"column\": \"Text\",\n      \"properties\": {\n        \"dtype\": \"string\",\n        \"num_unique_values\": 5169,\n        \"samples\": [\n          \"Did u download the fring app?\",\n          \"Pass dis to all ur contacts n see wat u get! Red;i'm in luv wid u. Blue;u put a smile on my face. Purple;u r realy hot. Pink;u r so swt. Orange;i thnk i lyk u. Green;i realy wana go out wid u. Yelow;i wnt u bck. Black;i'm jealous of u. Brown;i miss you Nw plz giv me one color\"\n        ],\n        \"semantic_type\": \"\",\n        \"description\": \"\"\n      }\n    },\n    {\n      \"column\": \"Tokenized_Message\",\n      \"properties\": {\n        \"dtype\": \"object\",\n        \"semantic_type\": \"\",\n        \"description\": \"\"\n      }\n    },\n    {\n      \"column\": \"Cleaned_Message\",\n      \"properties\": {\n        \"dtype\": \"object\",\n        \"semantic_type\": \"\",\n        \"description\": \"\"\n      }\n    }\n  ]\n}",
              "type": "dataframe",
              "variable_name": "ds"
            },
            "text/html": [
              "\n",
              "  <div id=\"df-ffc0457c-8813-4c53-9183-b427cb729213\" class=\"colab-df-container\">\n",
              "    <div>\n",
              "<style scoped>\n",
              "    .dataframe tbody tr th:only-of-type {\n",
              "        vertical-align: middle;\n",
              "    }\n",
              "\n",
              "    .dataframe tbody tr th {\n",
              "        vertical-align: top;\n",
              "    }\n",
              "\n",
              "    .dataframe thead th {\n",
              "        text-align: right;\n",
              "    }\n",
              "</style>\n",
              "<table border=\"1\" class=\"dataframe\">\n",
              "  <thead>\n",
              "    <tr style=\"text-align: right;\">\n",
              "      <th></th>\n",
              "      <th>Type</th>\n",
              "      <th>Text</th>\n",
              "      <th>Tokenized_Message</th>\n",
              "      <th>Cleaned_Message</th>\n",
              "    </tr>\n",
              "  </thead>\n",
              "  <tbody>\n",
              "    <tr>\n",
              "      <th>0</th>\n",
              "      <td>ham</td>\n",
              "      <td>Go until jurong point, crazy.. Available only ...</td>\n",
              "      <td>[Go, until, jurong, point, ,, crazy, .., Avail...</td>\n",
              "      <td>[go, jurong, point, crazi, .., avail, bugi, n,...</td>\n",
              "    </tr>\n",
              "    <tr>\n",
              "      <th>1</th>\n",
              "      <td>ham</td>\n",
              "      <td>Ok lar... Joking wif u oni...</td>\n",
              "      <td>[Ok, lar, ..., Joking, wif, u, oni, ...]</td>\n",
              "      <td>[ok, lar, ..., joke, wif, u, oni, ...]</td>\n",
              "    </tr>\n",
              "    <tr>\n",
              "      <th>2</th>\n",
              "      <td>spam</td>\n",
              "      <td>Free entry in 2 a wkly comp to win FA Cup fina...</td>\n",
              "      <td>[Free, entry, in, 2, a, wkly, comp, to, win, F...</td>\n",
              "      <td>[free, entri, 2, wkli, comp, win, fa, cup, fin...</td>\n",
              "    </tr>\n",
              "    <tr>\n",
              "      <th>3</th>\n",
              "      <td>ham</td>\n",
              "      <td>U dun say so early hor... U c already then say...</td>\n",
              "      <td>[U, dun, say, so, early, hor, ..., U, c, alrea...</td>\n",
              "      <td>[u, dun, say, earli, hor, ..., u, c, alreadi, ...</td>\n",
              "    </tr>\n",
              "    <tr>\n",
              "      <th>4</th>\n",
              "      <td>ham</td>\n",
              "      <td>Nah I don't think he goes to usf, he lives aro...</td>\n",
              "      <td>[Nah, I, do, n't, think, he, goes, to, usf, ,,...</td>\n",
              "      <td>[nah, n't, think, goe, usf, live, around, though]</td>\n",
              "    </tr>\n",
              "  </tbody>\n",
              "</table>\n",
              "</div>\n",
              "    <div class=\"colab-df-buttons\">\n",
              "\n",
              "  <div class=\"colab-df-container\">\n",
              "    <button class=\"colab-df-convert\" onclick=\"convertToInteractive('df-ffc0457c-8813-4c53-9183-b427cb729213')\"\n",
              "            title=\"Convert this dataframe to an interactive table.\"\n",
              "            style=\"display:none;\">\n",
              "\n",
              "  <svg xmlns=\"http://www.w3.org/2000/svg\" height=\"24px\" viewBox=\"0 -960 960 960\">\n",
              "    <path d=\"M120-120v-720h720v720H120Zm60-500h600v-160H180v160Zm220 220h160v-160H400v160Zm0 220h160v-160H400v160ZM180-400h160v-160H180v160Zm440 0h160v-160H620v160ZM180-180h160v-160H180v160Zm440 0h160v-160H620v160Z\"/>\n",
              "  </svg>\n",
              "    </button>\n",
              "\n",
              "  <style>\n",
              "    .colab-df-container {\n",
              "      display:flex;\n",
              "      gap: 12px;\n",
              "    }\n",
              "\n",
              "    .colab-df-convert {\n",
              "      background-color: #E8F0FE;\n",
              "      border: none;\n",
              "      border-radius: 50%;\n",
              "      cursor: pointer;\n",
              "      display: none;\n",
              "      fill: #1967D2;\n",
              "      height: 32px;\n",
              "      padding: 0 0 0 0;\n",
              "      width: 32px;\n",
              "    }\n",
              "\n",
              "    .colab-df-convert:hover {\n",
              "      background-color: #E2EBFA;\n",
              "      box-shadow: 0px 1px 2px rgba(60, 64, 67, 0.3), 0px 1px 3px 1px rgba(60, 64, 67, 0.15);\n",
              "      fill: #174EA6;\n",
              "    }\n",
              "\n",
              "    .colab-df-buttons div {\n",
              "      margin-bottom: 4px;\n",
              "    }\n",
              "\n",
              "    [theme=dark] .colab-df-convert {\n",
              "      background-color: #3B4455;\n",
              "      fill: #D2E3FC;\n",
              "    }\n",
              "\n",
              "    [theme=dark] .colab-df-convert:hover {\n",
              "      background-color: #434B5C;\n",
              "      box-shadow: 0px 1px 3px 1px rgba(0, 0, 0, 0.15);\n",
              "      filter: drop-shadow(0px 1px 2px rgba(0, 0, 0, 0.3));\n",
              "      fill: #FFFFFF;\n",
              "    }\n",
              "  </style>\n",
              "\n",
              "    <script>\n",
              "      const buttonEl =\n",
              "        document.querySelector('#df-ffc0457c-8813-4c53-9183-b427cb729213 button.colab-df-convert');\n",
              "      buttonEl.style.display =\n",
              "        google.colab.kernel.accessAllowed ? 'block' : 'none';\n",
              "\n",
              "      async function convertToInteractive(key) {\n",
              "        const element = document.querySelector('#df-ffc0457c-8813-4c53-9183-b427cb729213');\n",
              "        const dataTable =\n",
              "          await google.colab.kernel.invokeFunction('convertToInteractive',\n",
              "                                                    [key], {});\n",
              "        if (!dataTable) return;\n",
              "\n",
              "        const docLinkHtml = 'Like what you see? Visit the ' +\n",
              "          '<a target=\"_blank\" href=https://colab.research.google.com/notebooks/data_table.ipynb>data table notebook</a>'\n",
              "          + ' to learn more about interactive tables.';\n",
              "        element.innerHTML = '';\n",
              "        dataTable['output_type'] = 'display_data';\n",
              "        await google.colab.output.renderOutput(dataTable, element);\n",
              "        const docLink = document.createElement('div');\n",
              "        docLink.innerHTML = docLinkHtml;\n",
              "        element.appendChild(docLink);\n",
              "      }\n",
              "    </script>\n",
              "  </div>\n",
              "\n",
              "\n",
              "<div id=\"df-e1f938de-db70-414e-88f2-f6d156e7e9d8\">\n",
              "  <button class=\"colab-df-quickchart\" onclick=\"quickchart('df-e1f938de-db70-414e-88f2-f6d156e7e9d8')\"\n",
              "            title=\"Suggest charts\"\n",
              "            style=\"display:none;\">\n",
              "\n",
              "<svg xmlns=\"http://www.w3.org/2000/svg\" height=\"24px\"viewBox=\"0 0 24 24\"\n",
              "     width=\"24px\">\n",
              "    <g>\n",
              "        <path d=\"M19 3H5c-1.1 0-2 .9-2 2v14c0 1.1.9 2 2 2h14c1.1 0 2-.9 2-2V5c0-1.1-.9-2-2-2zM9 17H7v-7h2v7zm4 0h-2V7h2v10zm4 0h-2v-4h2v4z\"/>\n",
              "    </g>\n",
              "</svg>\n",
              "  </button>\n",
              "\n",
              "<style>\n",
              "  .colab-df-quickchart {\n",
              "      --bg-color: #E8F0FE;\n",
              "      --fill-color: #1967D2;\n",
              "      --hover-bg-color: #E2EBFA;\n",
              "      --hover-fill-color: #174EA6;\n",
              "      --disabled-fill-color: #AAA;\n",
              "      --disabled-bg-color: #DDD;\n",
              "  }\n",
              "\n",
              "  [theme=dark] .colab-df-quickchart {\n",
              "      --bg-color: #3B4455;\n",
              "      --fill-color: #D2E3FC;\n",
              "      --hover-bg-color: #434B5C;\n",
              "      --hover-fill-color: #FFFFFF;\n",
              "      --disabled-bg-color: #3B4455;\n",
              "      --disabled-fill-color: #666;\n",
              "  }\n",
              "\n",
              "  .colab-df-quickchart {\n",
              "    background-color: var(--bg-color);\n",
              "    border: none;\n",
              "    border-radius: 50%;\n",
              "    cursor: pointer;\n",
              "    display: none;\n",
              "    fill: var(--fill-color);\n",
              "    height: 32px;\n",
              "    padding: 0;\n",
              "    width: 32px;\n",
              "  }\n",
              "\n",
              "  .colab-df-quickchart:hover {\n",
              "    background-color: var(--hover-bg-color);\n",
              "    box-shadow: 0 1px 2px rgba(60, 64, 67, 0.3), 0 1px 3px 1px rgba(60, 64, 67, 0.15);\n",
              "    fill: var(--button-hover-fill-color);\n",
              "  }\n",
              "\n",
              "  .colab-df-quickchart-complete:disabled,\n",
              "  .colab-df-quickchart-complete:disabled:hover {\n",
              "    background-color: var(--disabled-bg-color);\n",
              "    fill: var(--disabled-fill-color);\n",
              "    box-shadow: none;\n",
              "  }\n",
              "\n",
              "  .colab-df-spinner {\n",
              "    border: 2px solid var(--fill-color);\n",
              "    border-color: transparent;\n",
              "    border-bottom-color: var(--fill-color);\n",
              "    animation:\n",
              "      spin 1s steps(1) infinite;\n",
              "  }\n",
              "\n",
              "  @keyframes spin {\n",
              "    0% {\n",
              "      border-color: transparent;\n",
              "      border-bottom-color: var(--fill-color);\n",
              "      border-left-color: var(--fill-color);\n",
              "    }\n",
              "    20% {\n",
              "      border-color: transparent;\n",
              "      border-left-color: var(--fill-color);\n",
              "      border-top-color: var(--fill-color);\n",
              "    }\n",
              "    30% {\n",
              "      border-color: transparent;\n",
              "      border-left-color: var(--fill-color);\n",
              "      border-top-color: var(--fill-color);\n",
              "      border-right-color: var(--fill-color);\n",
              "    }\n",
              "    40% {\n",
              "      border-color: transparent;\n",
              "      border-right-color: var(--fill-color);\n",
              "      border-top-color: var(--fill-color);\n",
              "    }\n",
              "    60% {\n",
              "      border-color: transparent;\n",
              "      border-right-color: var(--fill-color);\n",
              "    }\n",
              "    80% {\n",
              "      border-color: transparent;\n",
              "      border-right-color: var(--fill-color);\n",
              "      border-bottom-color: var(--fill-color);\n",
              "    }\n",
              "    90% {\n",
              "      border-color: transparent;\n",
              "      border-bottom-color: var(--fill-color);\n",
              "    }\n",
              "  }\n",
              "</style>\n",
              "\n",
              "  <script>\n",
              "    async function quickchart(key) {\n",
              "      const quickchartButtonEl =\n",
              "        document.querySelector('#' + key + ' button');\n",
              "      quickchartButtonEl.disabled = true;  // To prevent multiple clicks.\n",
              "      quickchartButtonEl.classList.add('colab-df-spinner');\n",
              "      try {\n",
              "        const charts = await google.colab.kernel.invokeFunction(\n",
              "            'suggestCharts', [key], {});\n",
              "      } catch (error) {\n",
              "        console.error('Error during call to suggestCharts:', error);\n",
              "      }\n",
              "      quickchartButtonEl.classList.remove('colab-df-spinner');\n",
              "      quickchartButtonEl.classList.add('colab-df-quickchart-complete');\n",
              "    }\n",
              "    (() => {\n",
              "      let quickchartButtonEl =\n",
              "        document.querySelector('#df-e1f938de-db70-414e-88f2-f6d156e7e9d8 button');\n",
              "      quickchartButtonEl.style.display =\n",
              "        google.colab.kernel.accessAllowed ? 'block' : 'none';\n",
              "    })();\n",
              "  </script>\n",
              "</div>\n",
              "\n",
              "    </div>\n",
              "  </div>\n"
            ],
            "text/plain": [
              "   Type                                               Text  \\\n",
              "0   ham  Go until jurong point, crazy.. Available only ...   \n",
              "1   ham                      Ok lar... Joking wif u oni...   \n",
              "2  spam  Free entry in 2 a wkly comp to win FA Cup fina...   \n",
              "3   ham  U dun say so early hor... U c already then say...   \n",
              "4   ham  Nah I don't think he goes to usf, he lives aro...   \n",
              "\n",
              "                                   Tokenized_Message  \\\n",
              "0  [Go, until, jurong, point, ,, crazy, .., Avail...   \n",
              "1           [Ok, lar, ..., Joking, wif, u, oni, ...]   \n",
              "2  [Free, entry, in, 2, a, wkly, comp, to, win, F...   \n",
              "3  [U, dun, say, so, early, hor, ..., U, c, alrea...   \n",
              "4  [Nah, I, do, n't, think, he, goes, to, usf, ,,...   \n",
              "\n",
              "                                     Cleaned_Message  \n",
              "0  [go, jurong, point, crazi, .., avail, bugi, n,...  \n",
              "1             [ok, lar, ..., joke, wif, u, oni, ...]  \n",
              "2  [free, entri, 2, wkli, comp, win, fa, cup, fin...  \n",
              "3  [u, dun, say, earli, hor, ..., u, c, alreadi, ...  \n",
              "4  [nah, n't, think, goe, usf, live, around, though]  "
            ]
          },
          "execution_count": 19,
          "metadata": {},
          "output_type": "execute_result"
        }
      ],
      "source": [
        "ds.head()"
      ]
    },
    {
      "cell_type": "code",
      "execution_count": 20,
      "metadata": {
        "id": "24vdyMs2sOJa"
      },
      "outputs": [],
      "source": [
        "from sklearn.preprocessing import LabelEncoder\n",
        "\n",
        "label_encoder = LabelEncoder()\n",
        "ds['type'] = label_encoder.fit_transform(ds['Type'])"
      ]
    },
    {
      "cell_type": "code",
      "execution_count": 21,
      "metadata": {
        "id": "Cbl7F6QpsOLc"
      },
      "outputs": [],
      "source": [
        "from sklearn.feature_extraction.text import TfidfVectorizer\n",
        "\n",
        "tfidf = TfidfVectorizer()\n",
        "\n",
        "x = tfidf.fit_transform(ds['Cleaned_Message'].apply(lambda tokens: ' '.join(tokens))).toarray()\n",
        "\n",
        "x.dtype\n",
        "\n",
        "y = ds['type']"
      ]
    },
    {
      "cell_type": "code",
      "execution_count": 22,
      "metadata": {
        "id": "yGR8wkwusONp"
      },
      "outputs": [],
      "source": [
        "from sklearn.model_selection import train_test_split\n",
        "\n",
        "x_train, x_test, y_train, y_test = train_test_split(x, y, test_size=0.2, random_state=42)"
      ]
    },
    {
      "cell_type": "code",
      "execution_count": 23,
      "metadata": {
        "colab": {
          "base_uri": "https://localhost:8080/"
        },
        "id": "Q0Caoh1JsOPp",
        "outputId": "42ef0e69-3897-4249-f823-05c967bf1d26"
      },
      "outputs": [
        {
          "name": "stdout",
          "output_type": "stream",
          "text": [
            "              precision    recall  f1-score   support\n",
            "\n",
            "           0     1.0000    0.9640    0.9817      1001\n",
            "           1     0.7600    1.0000    0.8636       114\n",
            "\n",
            "    accuracy                         0.9677      1115\n",
            "   macro avg     0.8800    0.9820    0.9227      1115\n",
            "weighted avg     0.9755    0.9677    0.9696      1115\n",
            "\n"
          ]
        }
      ],
      "source": [
        "from sklearn.naive_bayes import MultinomialNB\n",
        "from sklearn.metrics import accuracy_score, classification_report, confusion_matrix\n",
        "\n",
        "nb_model = MultinomialNB()\n",
        "nb_model.fit(x_train, y_train)\n",
        "\n",
        "y_pred_MNB = nb_model.predict(x_test)\n",
        "\n",
        "print(classification_report(y_pred_MNB, y_test, labels=None, digits=4))"
      ]
    },
    {
      "cell_type": "code",
      "execution_count": 24,
      "metadata": {
        "colab": {
          "base_uri": "https://localhost:8080/"
        },
        "id": "uL1PLcbUsOR4",
        "outputId": "72da0ad1-1d2b-4391-f089-e4cdcf3d09d5"
      },
      "outputs": [
        {
          "name": "stdout",
          "output_type": "stream",
          "text": [
            "              precision    recall  f1-score   support\n",
            "\n",
            "           0     0.8663    0.9835    0.9212       850\n",
            "           1     0.9067    0.5132    0.6554       265\n",
            "\n",
            "    accuracy                         0.8717      1115\n",
            "   macro avg     0.8865    0.7484    0.7883      1115\n",
            "weighted avg     0.8759    0.8717    0.8580      1115\n",
            "\n"
          ]
        }
      ],
      "source": [
        "from sklearn.naive_bayes import GaussianNB\n",
        "\n",
        "gnb = GaussianNB()\n",
        "gnb.fit(x_train, y_train)\n",
        "pred_GNB = gnb.predict(x_test)\n",
        "\n",
        "print(classification_report(pred_GNB, y_test, labels=None, digits=4))"
      ]
    },
    {
      "cell_type": "code",
      "execution_count": 25,
      "metadata": {
        "colab": {
          "base_uri": "https://localhost:8080/"
        },
        "id": "8dKq3b8isOT3",
        "outputId": "c3fd441a-d416-4176-ccd5-d27a68bb6e25"
      },
      "outputs": [
        {
          "name": "stdout",
          "output_type": "stream",
          "text": [
            "              precision    recall  f1-score   support\n",
            "\n",
            "           0     0.9969    0.9766    0.9867       985\n",
            "           1     0.8467    0.9769    0.9071       130\n",
            "\n",
            "    accuracy                         0.9767      1115\n",
            "   macro avg     0.9218    0.9768    0.9469      1115\n",
            "weighted avg     0.9794    0.9767    0.9774      1115\n",
            "\n"
          ]
        }
      ],
      "source": [
        "from sklearn.naive_bayes import BernoulliNB\n",
        "\n",
        "bnb = BernoulliNB()\n",
        "bnb.fit(x_train, y_train)\n",
        "pred_BNB = bnb.predict(x_test)\n",
        "print(classification_report(pred_BNB, y_test, labels=None, digits=4))"
      ]
    },
    {
      "cell_type": "code",
      "execution_count": 26,
      "metadata": {
        "colab": {
          "base_uri": "https://localhost:8080/"
        },
        "id": "xz1gwGxCsOXa",
        "outputId": "7bfdb8e3-c733-4192-9b63-c2a78e3e046d"
      },
      "outputs": [
        {
          "name": "stdout",
          "output_type": "stream",
          "text": [
            "Requirement already satisfied: xgboost in /usr/local/lib/python3.11/dist-packages (2.1.4)\n",
            "Requirement already satisfied: numpy in /usr/local/lib/python3.11/dist-packages (from xgboost) (2.0.2)\n",
            "Requirement already satisfied: nvidia-nccl-cu12 in /usr/local/lib/python3.11/dist-packages (from xgboost) (2.21.5)\n",
            "Requirement already satisfied: scipy in /usr/local/lib/python3.11/dist-packages (from xgboost) (1.14.1)\n"
          ]
        }
      ],
      "source": [
        "!pip install xgboost\n",
        "from xgboost import XGBClassifier"
      ]
    },
    {
      "cell_type": "code",
      "execution_count": 27,
      "metadata": {
        "colab": {
          "base_uri": "https://localhost:8080/"
        },
        "id": "wuQqBM_BswU6",
        "outputId": "80928e37-6e80-49f8-a444-3c21f639549f"
      },
      "outputs": [
        {
          "name": "stdout",
          "output_type": "stream",
          "text": [
            "              precision    recall  f1-score   support\n",
            "\n",
            "           0     0.9969    0.9766    0.9867       985\n",
            "           1     0.8467    0.9769    0.9071       130\n",
            "\n",
            "    accuracy                         0.9767      1115\n",
            "   macro avg     0.9218    0.9768    0.9469      1115\n",
            "weighted avg     0.9794    0.9767    0.9774      1115\n",
            "\n"
          ]
        }
      ],
      "source": [
        "xgb_clf = XGBClassifier()\n",
        "xgb_clf=XGBClassifier(base_score=0.5, booster='gbtree', colsample_bylevel=1,\n",
        "              colsample_bynode=1, colsample_bytree=1, gamma=0,\n",
        "              learning_rate=0.1, max_delta_step=0, max_depth=10,\n",
        "              min_child_weight=1, missing=1, n_estimators=150, n_jobs=1,\n",
        "              nthread=None, objective='binary:logistic', random_state=0,\n",
        "              reg_alpha=0, reg_lambda=1, scale_pos_weight=1, seed=None,\n",
        "              silent=None, subsample=1, verbosity=1)\n",
        "\n",
        "xgb_clf.fit(x_train, y_train)\n",
        "pred_X = bnb.predict(x_test)\n",
        "print(classification_report(pred_X, y_test, labels=None, digits=4))"
      ]
    },
    {
      "cell_type": "code",
      "execution_count": 28,
      "metadata": {
        "colab": {
          "base_uri": "https://localhost:8080/"
        },
        "id": "zu9-8XgGswXC",
        "outputId": "9f92b51d-92ec-4a20-e274-a988d21e24e2"
      },
      "outputs": [
        {
          "name": "stdout",
          "output_type": "stream",
          "text": [
            "              precision    recall  f1-score   support\n",
            "\n",
            "           0     0.9990    0.9807    0.9897       983\n",
            "           1     0.8733    0.9924    0.9291       132\n",
            "\n",
            "    accuracy                         0.9821      1115\n",
            "   macro avg     0.9361    0.9865    0.9594      1115\n",
            "weighted avg     0.9841    0.9821    0.9826      1115\n",
            "\n"
          ]
        }
      ],
      "source": [
        "from sklearn.ensemble import RandomForestClassifier as RF\n",
        "\n",
        "rdF = RF(n_estimators=20, max_depth=100,random_state=64)\n",
        "rdF.fit(x_train, y_train)\n",
        "pred_RF = rdF.predict(x_test)\n",
        "print(classification_report(pred_RF, y_test, labels=None, digits=4))"
      ]
    },
    {
      "cell_type": "code",
      "execution_count": 29,
      "metadata": {
        "colab": {
          "base_uri": "https://localhost:8080/",
          "height": 1000
        },
        "id": "ONmlEiayswZh",
        "outputId": "b8538ffb-5a4c-4eeb-b896-8142bac51776"
      },
      "outputs": [
        {
          "data": {
            "text/plain": [
              "[Text(0.9640579710144928, 0.995049504950495, 'local <= 0.12\\ngini = 0.217\\nsamples = 2815\\nvalue = [3905, 552]\\nclass = ham'),\n",
              " Text(0.9578743961352657, 0.9851485148514851, 'txting <= 0.101\\ngini = 0.215\\nsamples = 2812\\nvalue = [3905, 545]\\nclass = ham'),\n",
              " Text(0.9609661835748793, 0.9900990099009901, 'True  '),\n",
              " Text(0.9281159420289855, 0.9752475247524752, '50 <= 0.077\\ngini = 0.213\\nsamples = 2806\\nvalue = [3904, 537]\\nclass = ham'),\n",
              " Text(0.8995169082125604, 0.9653465346534653, 'network <= 0.096\\ngini = 0.197\\nsamples = 2774\\nvalue = [3900, 485]\\nclass = ham'),\n",
              " Text(0.8732367149758454, 0.9554455445544554, 'current <= 0.166\\ngini = 0.193\\nsamples = 2760\\nvalue = [3888, 471]\\nclass = ham'),\n",
              " Text(0.8515942028985507, 0.9455445544554455, '10am <= 0.135\\ngini = 0.189\\nsamples = 2750\\nvalue = [3886, 460]\\nclass = ham'),\n",
              " Text(0.8454106280193237, 0.9356435643564357, '3030 <= 0.152\\ngini = 0.187\\nsamples = 2746\\nvalue = [3886, 452]\\nclass = ham'),\n",
              " Text(0.8392270531400966, 0.9257425742574258, 'asap <= 0.119\\ngini = 0.184\\nsamples = 2740\\nvalue = [3886, 445]\\nclass = ham'),\n",
              " Text(0.8268599033816425, 0.9158415841584159, 'updat <= 0.429\\ngini = 0.181\\nsamples = 2734\\nvalue = [3884.0, 436.0]\\nclass = ham'),\n",
              " Text(0.8206763285024155, 0.905940594059406, '5000 <= 0.09\\ngini = 0.179\\nsamples = 2730\\nvalue = [3884, 428]\\nclass = ham'),\n",
              " Text(0.8144927536231884, 0.8960396039603961, '2004 <= 0.132\\ngini = 0.176\\nsamples = 2723\\nvalue = [3884, 419]\\nclass = ham'),\n",
              " Text(0.8083091787439614, 0.8861386138613861, 'custom <= 0.086\\ngini = 0.174\\nsamples = 2719\\nvalue = [3884, 415]\\nclass = ham'),\n",
              " Text(0.7797101449275362, 0.8762376237623762, '150pm <= 0.116\\ngini = 0.165\\nsamples = 2691\\nvalue = [3870, 386]\\nclass = ham'),\n",
              " Text(0.7735265700483092, 0.8663366336633663, 'select <= 0.088\\ngini = 0.162\\nsamples = 2688\\nvalue = [3870, 379]\\nclass = ham'),\n",
              " Text(0.7472463768115942, 0.8564356435643564, 'prepay <= 0.124\\ngini = 0.159\\nsamples = 2677\\nvalue = [3865, 368]\\nclass = ham'),\n",
              " Text(0.7410628019323672, 0.8465346534653465, 'cs <= 0.081\\ngini = 0.158\\nsamples = 2676\\nvalue = [3865, 365]\\nclass = ham'),\n",
              " Text(0.7348792270531401, 0.8366336633663366, '12hr <= 0.129\\ngini = 0.149\\nsamples = 2659\\nvalue = [3865, 342]\\nclass = ham'),\n",
              " Text(0.7286956521739131, 0.8267326732673267, 'suite342 <= 0.098\\ngini = 0.145\\nsamples = 2653\\nvalue = [3865, 331]\\nclass = ham'),\n",
              " Text(0.722512077294686, 0.8168316831683168, 'fantast <= 0.226\\ngini = 0.142\\nsamples = 2646\\nvalue = [3865, 322]\\nclass = ham'),\n",
              " Text(0.7008695652173913, 0.806930693069307, 'orang <= 0.173\\ngini = 0.139\\nsamples = 2641\\nvalue = [3863, 314]\\nclass = ham'),\n",
              " Text(0.6885024154589372, 0.7970297029702971, '0870 <= 0.106\\ngini = 0.136\\nsamples = 2632\\nvalue = [3862, 305]\\nclass = ham'),\n",
              " Text(0.6823188405797102, 0.7871287128712872, '0800 <= 0.117\\ngini = 0.134\\nsamples = 2627\\nvalue = [3862, 300]\\nclass = ham'),\n",
              " Text(0.6761352657004831, 0.7772277227722773, 'ipod <= 0.106\\ngini = 0.132\\nsamples = 2623\\nvalue = [3862, 295]\\nclass = ham'),\n",
              " Text(0.669951690821256, 0.7673267326732673, '08452810075over18 <= 0.118\\ngini = 0.129\\nsamples = 2618\\nvalue = [3862, 287]\\nclass = ham'),\n",
              " Text(0.663768115942029, 0.7574257425742574, 'm95 <= 0.176\\ngini = 0.126\\nsamples = 2616\\nvalue = [3862, 281]\\nclass = ham'),\n",
              " Text(0.657584541062802, 0.7475247524752475, '100 <= 0.079\\ngini = 0.126\\nsamples = 2615\\nvalue = [3862, 279]\\nclass = ham'),\n",
              " Text(0.6514009661835749, 0.7376237623762376, 'freemsg <= 0.094\\ngini = 0.118\\nsamples = 2602\\nvalue = [3862, 260]\\nclass = ham'),\n",
              " Text(0.6452173913043479, 0.7277227722772277, 'cash <= 0.08\\ngini = 0.114\\nsamples = 2595\\nvalue = [3862, 250]\\nclass = ham'),\n",
              " Text(0.6141062801932368, 0.7178217821782178, 'skilgm <= 0.148\\ngini = 0.109\\nsamples = 2579\\nvalue = [3852, 236]\\nclass = ham'),\n",
              " Text(0.6079227053140097, 0.7079207920792079, '220cm2 <= 0.134\\ngini = 0.108\\nsamples = 2578\\nvalue = [3852, 233]\\nclass = ham'),\n",
              " Text(0.6017391304347826, 0.698019801980198, '500 <= 0.098\\ngini = 0.106\\nsamples = 2577\\nvalue = [3852, 230]\\nclass = ham'),\n",
              " Text(0.5955555555555555, 0.6881188118811881, '4msg <= 0.138\\ngini = 0.103\\nsamples = 2572\\nvalue = [3852, 223]\\nclass = ham'),\n",
              " Text(0.5893719806763285, 0.6782178217821783, 'entri <= 0.091\\ngini = 0.102\\nsamples = 2571\\nvalue = [3852, 219]\\nclass = ham'),\n",
              " Text(0.5831884057971014, 0.6683168316831684, 'code <= 0.102\\ngini = 0.098\\nsamples = 2566\\nvalue = [3852, 211]\\nclass = ham'),\n",
              " Text(0.5518840579710145, 0.6584158415841584, 'collect <= 0.082\\ngini = 0.095\\nsamples = 2559\\nvalue = [3849, 203]\\nclass = ham'),\n",
              " Text(0.5201932367149759, 0.6485148514851485, 'mobil <= 0.131\\ngini = 0.093\\nsamples = 2550\\nvalue = [3842, 198]\\nclass = ham'),\n",
              " Text(0.4877294685990338, 0.6386138613861386, 'voicemail <= 0.289\\ngini = 0.08\\nsamples = 2525\\nvalue = [3833, 167]\\nclass = ham'),\n",
              " Text(0.4815458937198068, 0.6287128712871287, '08701417012 <= 0.099\\ngini = 0.079\\nsamples = 2523\\nvalue = [3833, 165]\\nclass = ham'),\n",
              " Text(0.4753623188405797, 0.6188118811881188, '6wu <= 0.172\\ngini = 0.077\\nsamples = 2521\\nvalue = [3833, 160]\\nclass = ham'),\n",
              " Text(0.4691787439613527, 0.6089108910891089, 'age16 <= 0.124\\ngini = 0.076\\nsamples = 2519\\nvalue = [3833, 157]\\nclass = ham'),\n",
              " Text(0.4629951690821256, 0.599009900990099, 'horo <= 0.272\\ngini = 0.074\\nsamples = 2517\\nvalue = [3833, 153]\\nclass = ham'),\n",
              " Text(0.4568115942028986, 0.5891089108910891, 'min <= 0.121\\ngini = 0.072\\nsamples = 2516\\nvalue = [3833, 150]\\nclass = ham'),\n",
              " Text(0.4413526570048309, 0.5792079207920792, 'unsubscrib <= 0.098\\ngini = 0.065\\nsamples = 2485\\nvalue = [3803, 133]\\nclass = ham'),\n",
              " Text(0.43516908212560385, 0.5693069306930693, 'gender <= 0.137\\ngini = 0.063\\nsamples = 2482\\nvalue = [3803.0, 127.0]\\nclass = ham'),\n",
              " Text(0.4289855072463768, 0.5594059405940595, 'sky <= 0.328\\ngini = 0.061\\nsamples = 2480\\nvalue = [3803, 123]\\nclass = ham'),\n",
              " Text(0.42280193236714975, 0.5495049504950495, '12 <= 0.436\\ngini = 0.06\\nsamples = 2479\\nvalue = [3803, 121]\\nclass = ham'),\n",
              " Text(0.4166183574879227, 0.5396039603960396, 'rington <= 0.092\\ngini = 0.058\\nsamples = 2478\\nvalue = [3803, 118]\\nclass = ham'),\n",
              " Text(0.41043478260869565, 0.5297029702970297, 'nikiyu4 <= 0.173\\ngini = 0.053\\nsamples = 2470\\nvalue = [3803, 106]\\nclass = ham'),\n",
              " Text(0.4042512077294686, 0.5198019801980198, 'bubbletext <= 0.208\\ngini = 0.05\\nsamples = 2469\\nvalue = [3803, 101]\\nclass = ham'),\n",
              " Text(0.39806763285024155, 0.5099009900990099, 'camera <= 0.241\\ngini = 0.049\\nsamples = 2468\\nvalue = [3803, 98]\\nclass = ham'),\n",
              " Text(0.3918840579710145, 0.5, 'ac <= 0.098\\ngini = 0.048\\nsamples = 2467\\nvalue = [3803, 96]\\nclass = ham'),\n",
              " Text(0.38570048309178745, 0.4900990099009901, '08712402779 <= 0.288\\ngini = 0.044\\nsamples = 2460\\nvalue = [3803, 87]\\nclass = ham'),\n",
              " Text(0.3795169082125604, 0.4801980198019802, 'link <= 0.206\\ngini = 0.043\\nsamples = 2459\\nvalue = [3803, 86]\\nclass = ham'),\n",
              " Text(0.37333333333333335, 0.47029702970297027, '09701213186 <= 0.133\\ngini = 0.042\\nsamples = 2457\\nvalue = [3803, 83]\\nclass = ham'),\n",
              " Text(0.3671497584541063, 0.4603960396039604, 'eg <= 0.088\\ngini = 0.04\\nsamples = 2456\\nvalue = [3803, 80]\\nclass = ham'),\n",
              " Text(0.36096618357487925, 0.4504950495049505, '200 <= 0.129\\ngini = 0.036\\nsamples = 2452\\nvalue = [3803, 72]\\nclass = ham'),\n",
              " Text(0.35478260869565215, 0.4405940594059406, 'urgent <= 0.347\\ngini = 0.035\\nsamples = 2451\\nvalue = [3803, 70]\\nclass = ham'),\n",
              " Text(0.3485990338164251, 0.4306930693069307, '08712400603 <= 0.151\\ngini = 0.034\\nsamples = 2449\\nvalue = [3803, 66]\\nclass = ham'),\n",
              " Text(0.34241545893719805, 0.4207920792079208, 'cal <= 0.319\\ngini = 0.033\\nsamples = 2448\\nvalue = [3803, 65]\\nclass = ham'),\n",
              " Text(0.336231884057971, 0.41089108910891087, '08715205273 <= 0.354\\ngini = 0.032\\nsamples = 2447\\nvalue = [3803.0, 62.0]\\nclass = ham'),\n",
              " Text(0.33004830917874395, 0.400990099009901, 'rgd <= 0.356\\ngini = 0.03\\nsamples = 2446\\nvalue = [3803, 59]\\nclass = ham'),\n",
              " Text(0.3238647342995169, 0.3910891089108911, 'adult <= 0.357\\ngini = 0.03\\nsamples = 2445\\nvalue = [3803, 58]\\nclass = ham'),\n",
              " Text(0.31768115942028985, 0.3811881188118812, 'spam <= 0.128\\ngini = 0.028\\nsamples = 2442\\nvalue = [3803, 54]\\nclass = ham'),\n",
              " Text(0.3114975845410628, 0.3712871287128713, 'phb1 <= 0.156\\ngini = 0.027\\nsamples = 2441\\nvalue = [3803, 52]\\nclass = ham'),\n",
              " Text(0.30531400966183575, 0.3613861386138614, 'quiz <= 0.127\\ngini = 0.026\\nsamples = 2440\\nvalue = [3803, 51]\\nclass = ham'),\n",
              " Text(0.2991304347826087, 0.35148514851485146, 'tbs <= 0.15\\ngini = 0.026\\nsamples = 2439\\nvalue = [3803, 50]\\nclass = ham'),\n",
              " Text(0.29294685990338165, 0.3415841584158416, 'stolen <= 0.203\\ngini = 0.025\\nsamples = 2438\\nvalue = [3803, 49]\\nclass = ham'),\n",
              " Text(0.2867632850241546, 0.3316831683168317, 'uk <= 0.07\\ngini = 0.025\\nsamples = 2437\\nvalue = [3803, 48]\\nclass = ham'),\n",
              " Text(0.28057971014492755, 0.3217821782178218, 'netun <= 0.197\\ngini = 0.021\\nsamples = 2432\\nvalue = [3803, 41]\\nclass = ham'),\n",
              " Text(0.2743961352657005, 0.3118811881188119, '88600 <= 0.139\\ngini = 0.021\\nsamples = 2431\\nvalue = [3803, 40]\\nclass = ham'),\n",
              " Text(0.26821256038647345, 0.30198019801980197, 'inc <= 0.119\\ngini = 0.02\\nsamples = 2430\\nvalue = [3803, 39]\\nclass = ham'),\n",
              " Text(0.2620289855072464, 0.29207920792079206, '150p <= 0.083\\ngini = 0.019\\nsamples = 2428\\nvalue = [3803, 37]\\nclass = ham'),\n",
              " Text(0.2558454106280193, 0.28217821782178215, 'minmobsmorelkpobox177hp51fl <= 0.131\\ngini = 0.017\\nsamples = 2424\\nvalue = [3803, 32]\\nclass = ham'),\n",
              " Text(0.24966183574879228, 0.2722772277227723, 'la1 <= 0.123\\ngini = 0.016\\nsamples = 2422\\nvalue = [3803, 30]\\nclass = ham'),\n",
              " Text(0.24347826086956523, 0.2623762376237624, '09058094583 <= 0.168\\ngini = 0.015\\nsamples = 2421\\nvalue = [3803, 29]\\nclass = ham'),\n",
              " Text(0.23729468599033818, 0.2524752475247525, 'postcod <= 0.13\\ngini = 0.015\\nsamples = 2420\\nvalue = [3803, 28]\\nclass = ham'),\n",
              " Text(0.2311111111111111, 0.24257425742574257, 'miss <= 0.337\\ngini = 0.013\\nsamples = 2418\\nvalue = [3803, 25]\\nclass = ham'),\n",
              " Text(0.2056038647342995, 0.23267326732673269, '09111032124 <= 0.207\\ngini = 0.013\\nsamples = 2402\\nvalue = [3784, 24]\\nclass = ham'),\n",
              " Text(0.19942028985507246, 0.22277227722772278, 'minmobsmor <= 0.142\\ngini = 0.012\\nsamples = 2401\\nvalue = [3784, 23]\\nclass = ham'),\n",
              " Text(0.1932367149758454, 0.21287128712871287, 'choos <= 0.119\\ngini = 0.011\\nsamples = 2400\\nvalue = [3784, 22]\\nclass = ham'),\n",
              " Text(0.1731400966183575, 0.20297029702970298, '88800 <= 0.231\\ngini = 0.01\\nsamples = 2396\\nvalue = [3780, 20]\\nclass = ham'),\n",
              " Text(0.16695652173913045, 0.19306930693069307, 'barbie <= 0.242\\ngini = 0.01\\nsamples = 2395\\nvalue = [3780, 19]\\nclass = ham'),\n",
              " Text(0.16077294685990337, 0.18316831683168316, 'repli <= 0.103\\ngini = 0.009\\nsamples = 2394\\nvalue = [3780, 18]\\nclass = ham'),\n",
              " Text(0.1391304347826087, 0.17326732673267325, 'subscript <= 0.122\\ngini = 0.008\\nsamples = 2376\\nvalue = [3748.0, 16.0]\\nclass = ham'),\n",
              " Text(0.13294685990338165, 0.16336633663366337, 'thing <= 0.051\\ngini = 0.008\\nsamples = 2375\\nvalue = [3748.0, 15.0]\\nclass = ham'),\n",
              " Text(0.1267632850241546, 0.15346534653465346, '09056242159 <= 0.137\\ngini = 0.008\\nsamples = 2323\\nvalue = [3662, 15]\\nclass = ham'),\n",
              " Text(0.12057971014492753, 0.14356435643564355, 'dartboard <= 0.222\\ngini = 0.008\\nsamples = 2322\\nvalue = [3662, 14]\\nclass = ham'),\n",
              " Text(0.11439613526570049, 0.13366336633663367, 'trueåác <= 0.174\\ngini = 0.007\\nsamples = 2321\\nvalue = [3662, 13]\\nclass = ham'),\n",
              " Text(0.10821256038647344, 0.12376237623762376, 'havin <= 0.131\\ngini = 0.006\\nsamples = 2320\\nvalue = [3662, 11]\\nclass = ham'),\n",
              " Text(0.09584541062801932, 0.11386138613861387, 'buy <= 0.077\\ngini = 0.005\\nsamples = 2318\\nvalue = [3661, 10]\\nclass = ham'),\n",
              " Text(0.08966183574879227, 0.10396039603960396, 'two <= 0.27\\ngini = 0.006\\nsamples = 2280\\nvalue = [3601, 10]\\nclass = ham'),\n",
              " Text(0.06801932367149759, 0.09405940594059406, 'final <= 0.283\\ngini = 0.005\\nsamples = 2270\\nvalue = [3587, 9]\\nclass = ham'),\n",
              " Text(0.05565217391304348, 0.08415841584158416, '08712103738 <= 0.187\\ngini = 0.004\\nsamples = 2263\\nvalue = [3578, 8]\\nclass = ham'),\n",
              " Text(0.049468599033816424, 0.07425742574257425, '946 <= 0.279\\ngini = 0.004\\nsamples = 2262\\nvalue = [3578, 7]\\nclass = ham'),\n",
              " Text(0.043285024154589374, 0.06435643564356436, 'ya <= 0.09\\ngini = 0.003\\nsamples = 2261\\nvalue = [3578, 6]\\nclass = ham'),\n",
              " Text(0.03710144927536232, 0.054455445544554455, 'lt <= 0.036\\ngini = 0.003\\nsamples = 2233\\nvalue = [3528, 6]\\nclass = ham'),\n",
              " Text(0.030917874396135265, 0.04455445544554455, 'ur <= 0.043\\ngini = 0.004\\nsamples = 2136\\nvalue = [3373, 6]\\nclass = ham'),\n",
              " Text(0.024734299516908212, 0.034653465346534656, 'll <= 0.046\\ngini = 0.004\\nsamples = 2051\\nvalue = [3241, 6]\\nclass = ham'),\n",
              " Text(0.01855072463768116, 0.024752475247524754, 'mobsi <= 0.177\\ngini = 0.004\\nsamples = 1951\\nvalue = [3079, 6]\\nclass = ham'),\n",
              " Text(0.012367149758454106, 0.01485148514851485, 'next <= 0.126\\ngini = 0.003\\nsamples = 1950\\nvalue = [3079, 5]\\nclass = ham'),\n",
              " Text(0.006183574879227053, 0.0049504950495049506, 'gini = 0.003\\nsamples = 1941\\nvalue = [3059, 5]\\nclass = ham'),\n",
              " Text(0.01855072463768116, 0.0049504950495049506, 'gini = 0.0\\nsamples = 9\\nvalue = [20, 0]\\nclass = ham'),\n",
              " Text(0.024734299516908212, 0.01485148514851485, 'gini = 0.0\\nsamples = 1\\nvalue = [0, 1]\\nclass = spam'),\n",
              " Text(0.030917874396135265, 0.024752475247524754, 'gini = 0.0\\nsamples = 100\\nvalue = [162, 0]\\nclass = ham'),\n",
              " Text(0.03710144927536232, 0.034653465346534656, 'gini = 0.0\\nsamples = 85\\nvalue = [132, 0]\\nclass = ham'),\n",
              " Text(0.043285024154589374, 0.04455445544554455, 'gini = 0.0\\nsamples = 97\\nvalue = [155, 0]\\nclass = ham'),\n",
              " Text(0.049468599033816424, 0.054455445544554455, 'gini = 0.0\\nsamples = 28\\nvalue = [50, 0]\\nclass = ham'),\n",
              " Text(0.05565217391304348, 0.06435643564356436, 'gini = 0.0\\nsamples = 1\\nvalue = [0, 1]\\nclass = spam'),\n",
              " Text(0.06183574879227053, 0.07425742574257425, 'gini = 0.0\\nsamples = 1\\nvalue = [0, 1]\\nclass = spam'),\n",
              " Text(0.08038647342995169, 0.08415841584158416, 'toward <= 0.227\\ngini = 0.18\\nsamples = 7\\nvalue = [9, 1]\\nclass = ham'),\n",
              " Text(0.07420289855072464, 0.07425742574257425, 'want <= 0.199\\ngini = 0.198\\nsamples = 6\\nvalue = [8, 1]\\nclass = ham'),\n",
              " Text(0.06801932367149759, 0.06435643564356436, 'finish <= 0.163\\ngini = 0.219\\nsamples = 5\\nvalue = [7, 1]\\nclass = ham'),\n",
              " Text(0.06183574879227053, 0.054455445544554455, 'txt <= 0.118\\ngini = 0.245\\nsamples = 4\\nvalue = [6, 1]\\nclass = ham'),\n",
              " Text(0.05565217391304348, 0.04455445544554455, 'gini = 0.0\\nsamples = 3\\nvalue = [6, 0]\\nclass = ham'),\n",
              " Text(0.06801932367149759, 0.04455445544554455, 'gini = 0.0\\nsamples = 1\\nvalue = [0, 1]\\nclass = spam'),\n",
              " Text(0.07420289855072464, 0.054455445544554455, 'gini = 0.0\\nsamples = 1\\nvalue = [1, 0]\\nclass = ham'),\n",
              " Text(0.08038647342995169, 0.06435643564356436, 'gini = 0.0\\nsamples = 1\\nvalue = [1, 0]\\nclass = ham'),\n",
              " Text(0.08657004830917875, 0.07425742574257425, 'gini = 0.0\\nsamples = 1\\nvalue = [1, 0]\\nclass = ham'),\n",
              " Text(0.11130434782608696, 0.09405940594059406, 'home <= 0.119\\ngini = 0.124\\nsamples = 10\\nvalue = [14, 1]\\nclass = ham'),\n",
              " Text(0.1051207729468599, 0.08415841584158416, 'think <= 0.101\\ngini = 0.153\\nsamples = 9\\nvalue = [11, 1]\\nclass = ham'),\n",
              " Text(0.09893719806763285, 0.07425742574257425, 'gini = 0.0\\nsamples = 8\\nvalue = [11, 0]\\nclass = ham'),\n",
              " Text(0.11130434782608696, 0.07425742574257425, 'gini = 0.0\\nsamples = 1\\nvalue = [0, 1]\\nclass = spam'),\n",
              " Text(0.11748792270531401, 0.08415841584158416, 'gini = 0.0\\nsamples = 1\\nvalue = [3, 0]\\nclass = ham'),\n",
              " Text(0.10202898550724637, 0.10396039603960396, 'gini = 0.0\\nsamples = 38\\nvalue = [60, 0]\\nclass = ham'),\n",
              " Text(0.12057971014492753, 0.11386138613861387, 'clair <= 0.27\\ngini = 0.5\\nsamples = 2\\nvalue = [1, 1]\\nclass = ham'),\n",
              " Text(0.11439613526570049, 0.10396039603960396, 'gini = 0.0\\nsamples = 1\\nvalue = [1, 0]\\nclass = ham'),\n",
              " Text(0.1267632850241546, 0.10396039603960396, 'gini = 0.0\\nsamples = 1\\nvalue = [0, 1]\\nclass = spam'),\n",
              " Text(0.12057971014492753, 0.12376237623762376, 'gini = 0.0\\nsamples = 1\\nvalue = [0, 2]\\nclass = spam'),\n",
              " Text(0.1267632850241546, 0.13366336633663367, 'gini = 0.0\\nsamples = 1\\nvalue = [0, 1]\\nclass = spam'),\n",
              " Text(0.13294685990338165, 0.14356435643564355, 'gini = 0.0\\nsamples = 1\\nvalue = [0, 1]\\nclass = spam'),\n",
              " Text(0.1391304347826087, 0.15346534653465346, 'gini = 0.0\\nsamples = 52\\nvalue = [86, 0]\\nclass = ham'),\n",
              " Text(0.14531400966183575, 0.16336633663366337, 'gini = 0.0\\nsamples = 1\\nvalue = [0, 1]\\nclass = spam'),\n",
              " Text(0.18241545893719807, 0.17326732673267325, 'hey <= 0.188\\ngini = 0.111\\nsamples = 18\\nvalue = [32, 2]\\nclass = ham'),\n",
              " Text(0.17623188405797102, 0.16336633663366337, 'save <= 0.09\\ngini = 0.121\\nsamples = 17\\nvalue = [29, 2]\\nclass = ham'),\n",
              " Text(0.17004830917874397, 0.15346534653465346, 'one <= 0.074\\ngini = 0.064\\nsamples = 16\\nvalue = [29, 1]\\nclass = ham'),\n",
              " Text(0.1638647342995169, 0.14356435643564355, 'send <= 0.15\\ngini = 0.069\\nsamples = 15\\nvalue = [27, 1]\\nclass = ham'),\n",
              " Text(0.15768115942028985, 0.13366336633663367, 'next <= 0.147\\ngini = 0.071\\nsamples = 14\\nvalue = [26, 1]\\nclass = ham'),\n",
              " Text(0.1514975845410628, 0.12376237623762376, 'moji <= 0.138\\ngini = 0.077\\nsamples = 13\\nvalue = [24, 1]\\nclass = ham'),\n",
              " Text(0.14531400966183575, 0.11386138613861387, 'free <= 0.101\\ngini = 0.083\\nsamples = 12\\nvalue = [22, 1]\\nclass = ham'),\n",
              " Text(0.1391304347826087, 0.10396039603960396, 'incred <= 0.156\\ngini = 0.095\\nsamples = 10\\nvalue = [19, 1]\\nclass = ham'),\n",
              " Text(0.13294685990338165, 0.09405940594059406, 'gini = 0.0\\nsamples = 9\\nvalue = [19, 0]\\nclass = ham'),\n",
              " Text(0.14531400966183575, 0.09405940594059406, 'gini = 0.0\\nsamples = 1\\nvalue = [0, 1]\\nclass = spam'),\n",
              " Text(0.1514975845410628, 0.10396039603960396, 'gini = 0.0\\nsamples = 2\\nvalue = [3, 0]\\nclass = ham'),\n",
              " Text(0.15768115942028985, 0.11386138613861387, 'gini = 0.0\\nsamples = 1\\nvalue = [2, 0]\\nclass = ham'),\n",
              " Text(0.1638647342995169, 0.12376237623762376, 'gini = 0.0\\nsamples = 1\\nvalue = [2, 0]\\nclass = ham'),\n",
              " Text(0.17004830917874397, 0.13366336633663367, 'gini = 0.0\\nsamples = 1\\nvalue = [1, 0]\\nclass = ham'),\n",
              " Text(0.17623188405797102, 0.14356435643564355, 'gini = 0.0\\nsamples = 1\\nvalue = [2, 0]\\nclass = ham'),\n",
              " Text(0.18241545893719807, 0.15346534653465346, 'gini = 0.0\\nsamples = 1\\nvalue = [0, 1]\\nclass = spam'),\n",
              " Text(0.18859903381642512, 0.16336633663366337, 'gini = 0.0\\nsamples = 1\\nvalue = [3, 0]\\nclass = ham'),\n",
              " Text(0.1731400966183575, 0.18316831683168316, 'gini = 0.0\\nsamples = 1\\nvalue = [0, 1]\\nclass = spam'),\n",
              " Text(0.17932367149758455, 0.19306930693069307, 'gini = 0.0\\nsamples = 1\\nvalue = [0, 1]\\nclass = spam'),\n",
              " Text(0.21333333333333335, 0.20297029702970298, 'friend <= 0.191\\ngini = 0.444\\nsamples = 4\\nvalue = [4, 2]\\nclass = ham'),\n",
              " Text(0.20714975845410627, 0.19306930693069307, 'right <= 0.156\\ngini = 0.48\\nsamples = 3\\nvalue = [3, 2]\\nclass = ham'),\n",
              " Text(0.20096618357487922, 0.18316831683168316, '300p <= 0.152\\ngini = 0.444\\nsamples = 2\\nvalue = [1, 2]\\nclass = spam'),\n",
              " Text(0.19478260869565217, 0.17326732673267325, 'gini = 0.0\\nsamples = 1\\nvalue = [1, 0]\\nclass = ham'),\n",
              " Text(0.20714975845410627, 0.17326732673267325, 'gini = 0.0\\nsamples = 1\\nvalue = [0, 2]\\nclass = spam'),\n",
              " Text(0.21333333333333335, 0.18316831683168316, 'gini = 0.0\\nsamples = 1\\nvalue = [2, 0]\\nclass = ham'),\n",
              " Text(0.2195169082125604, 0.19306930693069307, 'gini = 0.0\\nsamples = 1\\nvalue = [1, 0]\\nclass = ham'),\n",
              " Text(0.2056038647342995, 0.21287128712871287, 'gini = 0.0\\nsamples = 1\\nvalue = [0, 1]\\nclass = spam'),\n",
              " Text(0.21178743961352656, 0.22277227722772278, 'gini = 0.0\\nsamples = 1\\nvalue = [0, 1]\\nclass = spam'),\n",
              " Text(0.2566183574879227, 0.23267326732673269, 'wen <= 0.328\\ngini = 0.095\\nsamples = 16\\nvalue = [19, 1]\\nclass = ham'),\n",
              " Text(0.25043478260869567, 0.22277227722772278, 'get <= 0.082\\ngini = 0.1\\nsamples = 15\\nvalue = [18, 1]\\nclass = ham'),\n",
              " Text(0.2442512077294686, 0.21287128712871287, 'good <= 0.153\\ngini = 0.105\\nsamples = 14\\nvalue = [17, 1]\\nclass = ham'),\n",
              " Text(0.23806763285024155, 0.20297029702970298, 'enjoy <= 0.13\\ngini = 0.111\\nsamples = 13\\nvalue = [16, 1]\\nclass = ham'),\n",
              " Text(0.2318840579710145, 0.19306930693069307, 'aww <= 0.209\\ngini = 0.117\\nsamples = 12\\nvalue = [15, 1]\\nclass = ham'),\n",
              " Text(0.22570048309178745, 0.18316831683168316, 'fullonsms <= 0.102\\ngini = 0.124\\nsamples = 11\\nvalue = [14, 1]\\nclass = ham'),\n",
              " Text(0.2195169082125604, 0.17326732673267325, 'let <= 0.176\\ngini = 0.133\\nsamples = 10\\nvalue = [13, 1]\\nclass = ham'),\n",
              " Text(0.21333333333333335, 0.16336633663366337, 'gini = 0.0\\nsamples = 9\\nvalue = [13, 0]\\nclass = ham'),\n",
              " Text(0.22570048309178745, 0.16336633663366337, 'gini = 0.0\\nsamples = 1\\nvalue = [0, 1]\\nclass = spam'),\n",
              " Text(0.2318840579710145, 0.17326732673267325, 'gini = 0.0\\nsamples = 1\\nvalue = [1, 0]\\nclass = ham'),\n",
              " Text(0.23806763285024155, 0.18316831683168316, 'gini = 0.0\\nsamples = 1\\nvalue = [1, 0]\\nclass = ham'),\n",
              " Text(0.2442512077294686, 0.19306930693069307, 'gini = 0.0\\nsamples = 1\\nvalue = [1, 0]\\nclass = ham'),\n",
              " Text(0.25043478260869567, 0.20297029702970298, 'gini = 0.0\\nsamples = 1\\nvalue = [1, 0]\\nclass = ham'),\n",
              " Text(0.2566183574879227, 0.21287128712871287, 'gini = 0.0\\nsamples = 1\\nvalue = [1, 0]\\nclass = ham'),\n",
              " Text(0.26280193236714977, 0.22277227722772278, 'gini = 0.0\\nsamples = 1\\nvalue = [1, 0]\\nclass = ham'),\n",
              " Text(0.24347826086956523, 0.24257425742574257, 'gini = 0.0\\nsamples = 2\\nvalue = [0, 3]\\nclass = spam'),\n",
              " Text(0.24966183574879228, 0.2524752475247525, 'gini = 0.0\\nsamples = 1\\nvalue = [0, 1]\\nclass = spam'),\n",
              " Text(0.2558454106280193, 0.2623762376237624, 'gini = 0.0\\nsamples = 1\\nvalue = [0, 1]\\nclass = spam'),\n",
              " Text(0.2620289855072464, 0.2722772277227723, 'gini = 0.0\\nsamples = 2\\nvalue = [0, 2]\\nclass = spam'),\n",
              " Text(0.26821256038647345, 0.28217821782178215, 'gini = 0.0\\nsamples = 4\\nvalue = [0, 5]\\nclass = spam'),\n",
              " Text(0.2743961352657005, 0.29207920792079206, 'gini = 0.0\\nsamples = 2\\nvalue = [0, 2]\\nclass = spam'),\n",
              " Text(0.28057971014492755, 0.30198019801980197, 'gini = 0.0\\nsamples = 1\\nvalue = [0, 1]\\nclass = spam'),\n",
              " Text(0.2867632850241546, 0.3118811881188119, 'gini = 0.0\\nsamples = 1\\nvalue = [0, 1]\\nclass = spam'),\n",
              " Text(0.29294685990338165, 0.3217821782178218, 'gini = 0.0\\nsamples = 5\\nvalue = [0, 7]\\nclass = spam'),\n",
              " Text(0.2991304347826087, 0.3316831683168317, 'gini = 0.0\\nsamples = 1\\nvalue = [0, 1]\\nclass = spam'),\n",
              " Text(0.30531400966183575, 0.3415841584158416, 'gini = 0.0\\nsamples = 1\\nvalue = [0, 1]\\nclass = spam'),\n",
              " Text(0.3114975845410628, 0.35148514851485146, 'gini = 0.0\\nsamples = 1\\nvalue = [0, 1]\\nclass = spam'),\n",
              " Text(0.31768115942028985, 0.3613861386138614, 'gini = 0.0\\nsamples = 1\\nvalue = [0, 1]\\nclass = spam'),\n",
              " Text(0.3238647342995169, 0.3712871287128713, 'gini = 0.0\\nsamples = 1\\nvalue = [0, 2]\\nclass = spam'),\n",
              " Text(0.33004830917874395, 0.3811881188118812, 'gini = 0.0\\nsamples = 3\\nvalue = [0, 4]\\nclass = spam'),\n",
              " Text(0.336231884057971, 0.3910891089108911, 'gini = 0.0\\nsamples = 1\\nvalue = [0, 1]\\nclass = spam'),\n",
              " Text(0.34241545893719805, 0.400990099009901, 'gini = 0.0\\nsamples = 1\\nvalue = [0, 3]\\nclass = spam'),\n",
              " Text(0.3485990338164251, 0.41089108910891087, 'gini = 0.0\\nsamples = 1\\nvalue = [0, 3]\\nclass = spam'),\n",
              " Text(0.35478260869565215, 0.4207920792079208, 'gini = 0.0\\nsamples = 1\\nvalue = [0, 1]\\nclass = spam'),\n",
              " Text(0.36096618357487925, 0.4306930693069307, 'gini = 0.0\\nsamples = 2\\nvalue = [0, 4]\\nclass = spam'),\n",
              " Text(0.3671497584541063, 0.4405940594059406, 'gini = 0.0\\nsamples = 1\\nvalue = [0, 2]\\nclass = spam'),\n",
              " Text(0.37333333333333335, 0.4504950495049505, 'gini = 0.0\\nsamples = 4\\nvalue = [0, 8]\\nclass = spam'),\n",
              " Text(0.3795169082125604, 0.4603960396039604, 'gini = 0.0\\nsamples = 1\\nvalue = [0, 3]\\nclass = spam'),\n",
              " Text(0.38570048309178745, 0.47029702970297027, 'gini = 0.0\\nsamples = 2\\nvalue = [0, 3]\\nclass = spam'),\n",
              " Text(0.3918840579710145, 0.4801980198019802, 'gini = 0.0\\nsamples = 1\\nvalue = [0, 1]\\nclass = spam'),\n",
              " Text(0.39806763285024155, 0.4900990099009901, 'gini = 0.0\\nsamples = 7\\nvalue = [0, 9]\\nclass = spam'),\n",
              " Text(0.4042512077294686, 0.5, 'gini = 0.0\\nsamples = 1\\nvalue = [0, 2]\\nclass = spam'),\n",
              " Text(0.41043478260869565, 0.5099009900990099, 'gini = 0.0\\nsamples = 1\\nvalue = [0, 3]\\nclass = spam'),\n",
              " Text(0.4166183574879227, 0.5198019801980198, 'gini = 0.0\\nsamples = 1\\nvalue = [0, 5]\\nclass = spam'),\n",
              " Text(0.42280193236714975, 0.5297029702970297, 'gini = 0.0\\nsamples = 8\\nvalue = [0, 12]\\nclass = spam'),\n",
              " Text(0.4289855072463768, 0.5396039603960396, 'gini = 0.0\\nsamples = 1\\nvalue = [0, 3]\\nclass = spam'),\n",
              " Text(0.43516908212560385, 0.5495049504950495, 'gini = 0.0\\nsamples = 1\\nvalue = [0, 2]\\nclass = spam'),\n",
              " Text(0.4413526570048309, 0.5594059405940595, 'gini = 0.0\\nsamples = 2\\nvalue = [0, 4]\\nclass = spam'),\n",
              " Text(0.44753623188405794, 0.5693069306930693, 'gini = 0.0\\nsamples = 3\\nvalue = [0, 6]\\nclass = spam'),\n",
              " Text(0.4722705314009662, 0.5792079207920792, 'stop <= 0.067\\ngini = 0.462\\nsamples = 31\\nvalue = [30, 17]\\nclass = ham'),\n",
              " Text(0.4599033816425121, 0.5693069306930693, 'epsilon <= 0.234\\ngini = 0.405\\nsamples = 24\\nvalue = [28, 11]\\nclass = ham'),\n",
              " Text(0.45371980676328505, 0.5594059405940595, 'chat <= 0.115\\ngini = 0.424\\nsamples = 23\\nvalue = [25, 11]\\nclass = ham'),\n",
              " Text(0.44753623188405794, 0.5495049504950495, 'simpl <= 0.091\\ngini = 0.342\\nsamples = 20\\nvalue = [25, 7]\\nclass = ham'),\n",
              " Text(0.4413526570048309, 0.5396039603960396, '08001950382 <= 0.13\\ngini = 0.312\\nsamples = 19\\nvalue = [25, 6]\\nclass = ham'),\n",
              " Text(0.43516908212560385, 0.5297029702970297, 'feed <= 0.211\\ngini = 0.278\\nsamples = 18\\nvalue = [25, 5]\\nclass = ham'),\n",
              " Text(0.4289855072463768, 0.5198019801980198, 'cost <= 0.102\\ngini = 0.285\\nsamples = 17\\nvalue = [24, 5]\\nclass = ham'),\n",
              " Text(0.42280193236714975, 0.5099009900990099, 'late <= 0.197\\ngini = 0.245\\nsamples = 16\\nvalue = [24, 4]\\nclass = ham'),\n",
              " Text(0.4166183574879227, 0.5, '08712101358 <= 0.181\\ngini = 0.252\\nsamples = 15\\nvalue = [23, 4]\\nclass = ham'),\n",
              " Text(0.41043478260869565, 0.4900990099009901, 'home <= 0.216\\ngini = 0.147\\nsamples = 14\\nvalue = [23, 2]\\nclass = ham'),\n",
              " Text(0.4042512077294686, 0.4801980198019802, 'fanci <= 0.132\\ngini = 0.165\\nsamples = 12\\nvalue = [20, 2]\\nclass = ham'),\n",
              " Text(0.39806763285024155, 0.47029702970297027, 'prize <= 0.109\\ngini = 0.091\\nsamples = 11\\nvalue = [20, 1]\\nclass = ham'),\n",
              " Text(0.3918840579710145, 0.4603960396039604, 'gini = 0.0\\nsamples = 10\\nvalue = [20, 0]\\nclass = ham'),\n",
              " Text(0.4042512077294686, 0.4603960396039604, 'gini = 0.0\\nsamples = 1\\nvalue = [0, 1]\\nclass = spam'),\n",
              " Text(0.41043478260869565, 0.47029702970297027, 'gini = 0.0\\nsamples = 1\\nvalue = [0, 1]\\nclass = spam'),\n",
              " Text(0.4166183574879227, 0.4801980198019802, 'gini = 0.0\\nsamples = 2\\nvalue = [3, 0]\\nclass = ham'),\n",
              " Text(0.42280193236714975, 0.4900990099009901, 'gini = 0.0\\nsamples = 1\\nvalue = [0, 2]\\nclass = spam'),\n",
              " Text(0.4289855072463768, 0.5, 'gini = 0.0\\nsamples = 1\\nvalue = [1, 0]\\nclass = ham'),\n",
              " Text(0.43516908212560385, 0.5099009900990099, 'gini = 0.0\\nsamples = 1\\nvalue = [0, 1]\\nclass = spam'),\n",
              " Text(0.4413526570048309, 0.5198019801980198, 'gini = 0.0\\nsamples = 1\\nvalue = [1, 0]\\nclass = ham'),\n",
              " Text(0.44753623188405794, 0.5297029702970297, 'gini = 0.0\\nsamples = 1\\nvalue = [0, 1]\\nclass = spam'),\n",
              " Text(0.45371980676328505, 0.5396039603960396, 'gini = 0.0\\nsamples = 1\\nvalue = [0, 1]\\nclass = spam'),\n",
              " Text(0.4599033816425121, 0.5495049504950495, 'gini = 0.0\\nsamples = 3\\nvalue = [0, 4]\\nclass = spam'),\n",
              " Text(0.46608695652173915, 0.5594059405940595, 'gini = 0.0\\nsamples = 1\\nvalue = [3, 0]\\nclass = ham'),\n",
              " Text(0.4846376811594203, 0.5693069306930693, 'guy <= 0.098\\ngini = 0.375\\nsamples = 7\\nvalue = [2, 6]\\nclass = spam'),\n",
              " Text(0.47845410628019325, 0.5594059405940595, 'text <= 0.062\\ngini = 0.408\\nsamples = 6\\nvalue = [2, 5]\\nclass = spam'),\n",
              " Text(0.4722705314009662, 0.5495049504950495, 'gini = 0.0\\nsamples = 1\\nvalue = [2, 0]\\nclass = ham'),\n",
              " Text(0.4846376811594203, 0.5495049504950495, 'gini = 0.0\\nsamples = 5\\nvalue = [0, 5]\\nclass = spam'),\n",
              " Text(0.49082125603864735, 0.5594059405940595, 'gini = 0.0\\nsamples = 1\\nvalue = [0, 1]\\nclass = spam'),\n",
              " Text(0.4691787439613527, 0.5891089108910891, 'gini = 0.0\\nsamples = 1\\nvalue = [0, 3]\\nclass = spam'),\n",
              " Text(0.4753623188405797, 0.599009900990099, 'gini = 0.0\\nsamples = 2\\nvalue = [0, 4]\\nclass = spam'),\n",
              " Text(0.4815458937198068, 0.6089108910891089, 'gini = 0.0\\nsamples = 2\\nvalue = [0, 3]\\nclass = spam'),\n",
              " Text(0.4877294685990338, 0.6188118811881188, 'gini = 0.0\\nsamples = 2\\nvalue = [0, 5]\\nclass = spam'),\n",
              " Text(0.49391304347826087, 0.6287128712871287, 'gini = 0.0\\nsamples = 2\\nvalue = [0, 2]\\nclass = spam'),\n",
              " Text(0.5526570048309178, 0.6386138613861386, '150ppm <= 0.093\\ngini = 0.349\\nsamples = 25\\nvalue = [9, 31]\\nclass = spam'),\n",
              " Text(0.5464734299516908, 0.6287128712871287, 'content <= 0.111\\ngini = 0.389\\nsamples = 22\\nvalue = [9, 25]\\nclass = spam'),\n",
              " Text(0.5402898550724637, 0.6188118811881188, 'make <= 0.072\\ngini = 0.444\\nsamples = 19\\nvalue = [9, 18]\\nclass = spam'),\n",
              " Text(0.5341062801932367, 0.6089108910891089, 'lt <= 0.074\\ngini = 0.426\\nsamples = 18\\nvalue = [8, 18]\\nclass = spam'),\n",
              " Text(0.5279227053140096, 0.599009900990099, 'pleas <= 0.296\\ngini = 0.298\\nsamples = 15\\nvalue = [4, 18]\\nclass = spam'),\n",
              " Text(0.5217391304347826, 0.5891089108910891, 'via <= 0.152\\ngini = 0.18\\nsamples = 14\\nvalue = [2, 18]\\nclass = spam'),\n",
              " Text(0.5155555555555555, 0.5792079207920792, 'plu <= 0.128\\ngini = 0.188\\nsamples = 13\\nvalue = [2, 17]\\nclass = spam'),\n",
              " Text(0.5093719806763285, 0.5693069306930693, 'rington <= 0.172\\ngini = 0.208\\nsamples = 12\\nvalue = [2, 15]\\nclass = spam'),\n",
              " Text(0.5031884057971014, 0.5594059405940595, 'mail <= 0.132\\ngini = 0.245\\nsamples = 10\\nvalue = [2, 12]\\nclass = spam'),\n",
              " Text(0.4970048309178744, 0.5495049504950495, 'regret <= 0.13\\ngini = 0.142\\nsamples = 9\\nvalue = [1, 12]\\nclass = spam'),\n",
              " Text(0.49082125603864735, 0.5396039603960396, 'gini = 0.0\\nsamples = 8\\nvalue = [0, 12]\\nclass = spam'),\n",
              " Text(0.5031884057971014, 0.5396039603960396, 'gini = 0.0\\nsamples = 1\\nvalue = [1, 0]\\nclass = ham'),\n",
              " Text(0.5093719806763285, 0.5495049504950495, 'gini = 0.0\\nsamples = 1\\nvalue = [1, 0]\\nclass = ham'),\n",
              " Text(0.5155555555555555, 0.5594059405940595, 'gini = 0.0\\nsamples = 2\\nvalue = [0, 3]\\nclass = spam'),\n",
              " Text(0.5217391304347826, 0.5693069306930693, 'gini = 0.0\\nsamples = 1\\nvalue = [0, 2]\\nclass = spam'),\n",
              " Text(0.5279227053140096, 0.5792079207920792, 'gini = 0.0\\nsamples = 1\\nvalue = [0, 1]\\nclass = spam'),\n",
              " Text(0.5341062801932367, 0.5891089108910891, 'gini = 0.0\\nsamples = 1\\nvalue = [2, 0]\\nclass = ham'),\n",
              " Text(0.5402898550724637, 0.599009900990099, 'gini = 0.0\\nsamples = 3\\nvalue = [4, 0]\\nclass = ham'),\n",
              " Text(0.5464734299516908, 0.6089108910891089, 'gini = 0.0\\nsamples = 1\\nvalue = [1, 0]\\nclass = ham'),\n",
              " Text(0.5526570048309178, 0.6188118811881188, 'gini = 0.0\\nsamples = 3\\nvalue = [0, 7]\\nclass = spam'),\n",
              " Text(0.5588405797101449, 0.6287128712871287, 'gini = 0.0\\nsamples = 3\\nvalue = [0, 6]\\nclass = spam'),\n",
              " Text(0.5835748792270531, 0.6485148514851485, 'let <= 0.125\\ngini = 0.486\\nsamples = 9\\nvalue = [7, 5]\\nclass = ham'),\n",
              " Text(0.577391304347826, 0.6386138613861386, 'attempt <= 0.15\\ngini = 0.5\\nsamples = 8\\nvalue = [5, 5]\\nclass = ham'),\n",
              " Text(0.571207729468599, 0.6287128712871287, 'video <= 0.115\\ngini = 0.494\\nsamples = 7\\nvalue = [5, 4]\\nclass = ham'),\n",
              " Text(0.5650241545893719, 0.6188118811881188, 'configur <= 0.242\\ngini = 0.469\\nsamples = 6\\nvalue = [5, 3]\\nclass = ham'),\n",
              " Text(0.5588405797101449, 0.6089108910891089, '08701417012150p <= 0.127\\ngini = 0.49\\nsamples = 5\\nvalue = [4, 3]\\nclass = ham'),\n",
              " Text(0.5526570048309178, 0.599009900990099, 'logo <= 0.143\\ngini = 0.444\\nsamples = 4\\nvalue = [4, 2]\\nclass = ham'),\n",
              " Text(0.5464734299516908, 0.5891089108910891, 'verifi <= 0.149\\ngini = 0.32\\nsamples = 3\\nvalue = [4, 1]\\nclass = ham'),\n",
              " Text(0.5402898550724637, 0.5792079207920792, 'gini = 0.0\\nsamples = 2\\nvalue = [4, 0]\\nclass = ham'),\n",
              " Text(0.5526570048309178, 0.5792079207920792, 'gini = 0.0\\nsamples = 1\\nvalue = [0, 1]\\nclass = spam'),\n",
              " Text(0.5588405797101449, 0.5891089108910891, 'gini = 0.0\\nsamples = 1\\nvalue = [0, 1]\\nclass = spam'),\n",
              " Text(0.5650241545893719, 0.599009900990099, 'gini = 0.0\\nsamples = 1\\nvalue = [0, 1]\\nclass = spam'),\n",
              " Text(0.571207729468599, 0.6089108910891089, 'gini = 0.0\\nsamples = 1\\nvalue = [1, 0]\\nclass = ham'),\n",
              " Text(0.577391304347826, 0.6188118811881188, 'gini = 0.0\\nsamples = 1\\nvalue = [0, 1]\\nclass = spam'),\n",
              " Text(0.5835748792270531, 0.6287128712871287, 'gini = 0.0\\nsamples = 1\\nvalue = [0, 1]\\nclass = spam'),\n",
              " Text(0.5897584541062801, 0.6386138613861386, 'gini = 0.0\\nsamples = 1\\nvalue = [2, 0]\\nclass = ham'),\n",
              " Text(0.6144927536231884, 0.6584158415841584, '08715203694 <= 0.156\\ngini = 0.397\\nsamples = 7\\nvalue = [3, 8]\\nclass = spam'),\n",
              " Text(0.6083091787439614, 0.6485148514851485, 'right <= 0.12\\ngini = 0.444\\nsamples = 6\\nvalue = [3, 6]\\nclass = spam'),\n",
              " Text(0.6021256038647343, 0.6386138613861386, 'gini = 0.0\\nsamples = 5\\nvalue = [0, 6]\\nclass = spam'),\n",
              " Text(0.6144927536231884, 0.6386138613861386, 'gini = 0.0\\nsamples = 1\\nvalue = [3, 0]\\nclass = ham'),\n",
              " Text(0.6206763285024155, 0.6485148514851485, 'gini = 0.0\\nsamples = 1\\nvalue = [0, 2]\\nclass = spam'),\n",
              " Text(0.5955555555555555, 0.6683168316831684, 'gini = 0.0\\nsamples = 5\\nvalue = [0, 8]\\nclass = spam'),\n",
              " Text(0.6017391304347826, 0.6782178217821783, 'gini = 0.0\\nsamples = 1\\nvalue = [0, 4]\\nclass = spam'),\n",
              " Text(0.6079227053140097, 0.6881188118811881, 'gini = 0.0\\nsamples = 5\\nvalue = [0, 7]\\nclass = spam'),\n",
              " Text(0.6141062801932368, 0.698019801980198, 'gini = 0.0\\nsamples = 1\\nvalue = [0, 3]\\nclass = spam'),\n",
              " Text(0.6202898550724638, 0.7079207920792079, 'gini = 0.0\\nsamples = 1\\nvalue = [0, 3]\\nclass = spam'),\n",
              " Text(0.6763285024154589, 0.7178217821782178, 'sw7 <= 0.163\\ngini = 0.486\\nsamples = 16\\nvalue = [10, 14]\\nclass = spam'),\n",
              " Text(0.6701449275362319, 0.7079207920792079, 'onli <= 0.119\\ngini = 0.499\\nsamples = 14\\nvalue = [10, 11]\\nclass = spam'),\n",
              " Text(0.6639613526570048, 0.698019801980198, 'dear <= 0.073\\ngini = 0.5\\nsamples = 13\\nvalue = [10, 10]\\nclass = ham'),\n",
              " Text(0.6577777777777778, 0.6881188118811881, 'gettin <= 0.201\\ngini = 0.494\\nsamples = 12\\nvalue = [10, 8]\\nclass = ham'),\n",
              " Text(0.6515942028985507, 0.6782178217821783, 'know <= 0.144\\ngini = 0.5\\nsamples = 11\\nvalue = [8, 8]\\nclass = ham'),\n",
              " Text(0.6454106280193237, 0.6683168316831684, 'music <= 0.111\\ngini = 0.498\\nsamples = 10\\nvalue = [7, 8]\\nclass = spam'),\n",
              " Text(0.6392270531400966, 0.6584158415841584, 'news <= 0.144\\ngini = 0.5\\nsamples = 9\\nvalue = [7, 7]\\nclass = ham'),\n",
              " Text(0.6330434782608696, 0.6485148514851485, '000 <= 0.126\\ngini = 0.497\\nsamples = 8\\nvalue = [7, 6]\\nclass = ham'),\n",
              " Text(0.6268599033816425, 0.6386138613861386, 'def <= 0.26\\ngini = 0.42\\nsamples = 6\\nvalue = [7, 3]\\nclass = ham'),\n",
              " Text(0.6206763285024155, 0.6287128712871287, 'collect <= 0.111\\ngini = 0.49\\nsamples = 5\\nvalue = [4, 3]\\nclass = ham'),\n",
              " Text(0.6144927536231884, 0.6188118811881188, 'gini = 0.0\\nsamples = 2\\nvalue = [3, 0]\\nclass = ham'),\n",
              " Text(0.6268599033816425, 0.6188118811881188, 've <= 0.103\\ngini = 0.375\\nsamples = 3\\nvalue = [1, 3]\\nclass = spam'),\n",
              " Text(0.6206763285024155, 0.6089108910891089, 'gini = 0.0\\nsamples = 1\\nvalue = [1, 0]\\nclass = ham'),\n",
              " Text(0.6330434782608696, 0.6089108910891089, 'gini = 0.0\\nsamples = 2\\nvalue = [0, 3]\\nclass = spam'),\n",
              " Text(0.6330434782608696, 0.6287128712871287, 'gini = 0.0\\nsamples = 1\\nvalue = [3, 0]\\nclass = ham'),\n",
              " Text(0.6392270531400966, 0.6386138613861386, 'gini = 0.0\\nsamples = 2\\nvalue = [0, 3]\\nclass = spam'),\n",
              " Text(0.6454106280193237, 0.6485148514851485, 'gini = 0.0\\nsamples = 1\\nvalue = [0, 1]\\nclass = spam'),\n",
              " Text(0.6515942028985507, 0.6584158415841584, 'gini = 0.0\\nsamples = 1\\nvalue = [0, 1]\\nclass = spam'),\n",
              " Text(0.6577777777777778, 0.6683168316831684, 'gini = 0.0\\nsamples = 1\\nvalue = [1, 0]\\nclass = ham'),\n",
              " Text(0.6639613526570048, 0.6782178217821783, 'gini = 0.0\\nsamples = 1\\nvalue = [2, 0]\\nclass = ham'),\n",
              " Text(0.6701449275362319, 0.6881188118811881, 'gini = 0.0\\nsamples = 1\\nvalue = [0, 2]\\nclass = spam'),\n",
              " Text(0.6763285024154589, 0.698019801980198, 'gini = 0.0\\nsamples = 1\\nvalue = [0, 1]\\nclass = spam'),\n",
              " Text(0.682512077294686, 0.7079207920792079, 'gini = 0.0\\nsamples = 2\\nvalue = [0, 3]\\nclass = spam'),\n",
              " Text(0.657584541062802, 0.7277227722772277, 'gini = 0.0\\nsamples = 7\\nvalue = [0, 10]\\nclass = spam'),\n",
              " Text(0.663768115942029, 0.7376237623762376, 'gini = 0.0\\nsamples = 13\\nvalue = [0, 19]\\nclass = spam'),\n",
              " Text(0.669951690821256, 0.7475247524752475, 'gini = 0.0\\nsamples = 1\\nvalue = [0, 2]\\nclass = spam'),\n",
              " Text(0.6761352657004831, 0.7574257425742574, 'gini = 0.0\\nsamples = 2\\nvalue = [0, 6]\\nclass = spam'),\n",
              " Text(0.6823188405797102, 0.7673267326732673, 'gini = 0.0\\nsamples = 5\\nvalue = [0, 8]\\nclass = spam'),\n",
              " Text(0.6885024154589372, 0.7772277227722773, 'gini = 0.0\\nsamples = 4\\nvalue = [0, 5]\\nclass = spam'),\n",
              " Text(0.6946859903381642, 0.7871287128712872, 'gini = 0.0\\nsamples = 5\\nvalue = [0, 5]\\nclass = spam'),\n",
              " Text(0.7132367149758454, 0.7970297029702971, 'doubl <= 0.117\\ngini = 0.18\\nsamples = 9\\nvalue = [1, 9]\\nclass = spam'),\n",
              " Text(0.7070531400966183, 0.7871287128712872, 'twat <= 0.176\\ngini = 0.32\\nsamples = 4\\nvalue = [1, 4]\\nclass = spam'),\n",
              " Text(0.7008695652173913, 0.7772277227722773, 'gini = 0.0\\nsamples = 3\\nvalue = [0, 4]\\nclass = spam'),\n",
              " Text(0.7132367149758454, 0.7772277227722773, 'gini = 0.0\\nsamples = 1\\nvalue = [1, 0]\\nclass = ham'),\n",
              " Text(0.7194202898550724, 0.7871287128712872, 'gini = 0.0\\nsamples = 5\\nvalue = [0, 5]\\nclass = spam'),\n",
              " Text(0.7441545893719806, 0.806930693069307, 'find <= 0.094\\ngini = 0.32\\nsamples = 5\\nvalue = [2, 8]\\nclass = spam'),\n",
              " Text(0.7379710144927536, 0.7970297029702971, 'http <= 0.121\\ngini = 0.444\\nsamples = 2\\nvalue = [2, 1]\\nclass = ham'),\n",
              " Text(0.7317874396135265, 0.7871287128712872, 'gini = 0.0\\nsamples = 1\\nvalue = [2, 0]\\nclass = ham'),\n",
              " Text(0.7441545893719806, 0.7871287128712872, 'gini = 0.0\\nsamples = 1\\nvalue = [0, 1]\\nclass = spam'),\n",
              " Text(0.7503381642512077, 0.7970297029702971, 'gini = 0.0\\nsamples = 3\\nvalue = [0, 7]\\nclass = spam'),\n",
              " Text(0.7348792270531401, 0.8168316831683168, 'gini = 0.0\\nsamples = 7\\nvalue = [0, 9]\\nclass = spam'),\n",
              " Text(0.7410628019323672, 0.8267326732673267, 'gini = 0.0\\nsamples = 6\\nvalue = [0, 11]\\nclass = spam'),\n",
              " Text(0.7472463768115942, 0.8366336633663366, 'gini = 0.0\\nsamples = 17\\nvalue = [0, 23]\\nclass = spam'),\n",
              " Text(0.7534299516908213, 0.8465346534653465, 'gini = 0.0\\nsamples = 1\\nvalue = [0, 3]\\nclass = spam'),\n",
              " Text(0.7998067632850242, 0.8564356435643564, 'pleas <= 0.069\\ngini = 0.43\\nsamples = 11\\nvalue = [5, 11]\\nclass = spam'),\n",
              " Text(0.7936231884057972, 0.8465346534653465, '3000 <= 0.166\\ngini = 0.459\\nsamples = 9\\nvalue = [5, 9]\\nclass = spam'),\n",
              " Text(0.7874396135265701, 0.8366336633663366, 'bt <= 0.099\\ngini = 0.486\\nsamples = 8\\nvalue = [5, 7]\\nclass = spam'),\n",
              " Text(0.7812560386473429, 0.8267326732673267, 'min <= 0.095\\ngini = 0.496\\nsamples = 7\\nvalue = [5, 6]\\nclass = spam'),\n",
              " Text(0.7750724637681159, 0.8168316831683168, 'free <= 0.067\\ngini = 0.5\\nsamples = 6\\nvalue = [5, 5]\\nclass = ham'),\n",
              " Text(0.7688888888888888, 0.806930693069307, 'player <= 0.258\\ngini = 0.494\\nsamples = 5\\nvalue = [5, 4]\\nclass = ham'),\n",
              " Text(0.7627053140096618, 0.7970297029702971, 'tell <= 0.097\\ngini = 0.49\\nsamples = 4\\nvalue = [3, 4]\\nclass = spam'),\n",
              " Text(0.7565217391304347, 0.7871287128712872, 'select <= 0.314\\ngini = 0.444\\nsamples = 3\\nvalue = [2, 4]\\nclass = spam'),\n",
              " Text(0.7503381642512077, 0.7772277227722773, 'gini = 0.0\\nsamples = 1\\nvalue = [0, 4]\\nclass = spam'),\n",
              " Text(0.7627053140096618, 0.7772277227722773, 'gini = 0.0\\nsamples = 2\\nvalue = [2, 0]\\nclass = ham'),\n",
              " Text(0.7688888888888888, 0.7871287128712872, 'gini = 0.0\\nsamples = 1\\nvalue = [1, 0]\\nclass = ham'),\n",
              " Text(0.7750724637681159, 0.7970297029702971, 'gini = 0.0\\nsamples = 1\\nvalue = [2, 0]\\nclass = ham'),\n",
              " Text(0.7812560386473429, 0.806930693069307, 'gini = 0.0\\nsamples = 1\\nvalue = [0, 1]\\nclass = spam'),\n",
              " Text(0.7874396135265701, 0.8168316831683168, 'gini = 0.0\\nsamples = 1\\nvalue = [0, 1]\\nclass = spam'),\n",
              " Text(0.7936231884057972, 0.8267326732673267, 'gini = 0.0\\nsamples = 1\\nvalue = [0, 1]\\nclass = spam'),\n",
              " Text(0.7998067632850242, 0.8366336633663366, 'gini = 0.0\\nsamples = 1\\nvalue = [0, 2]\\nclass = spam'),\n",
              " Text(0.8059903381642513, 0.8465346534653465, 'gini = 0.0\\nsamples = 2\\nvalue = [0, 2]\\nclass = spam'),\n",
              " Text(0.7858937198067633, 0.8663366336633663, 'gini = 0.0\\nsamples = 3\\nvalue = [0, 7]\\nclass = spam'),\n",
              " Text(0.8369082125603865, 0.8762376237623762, 'polo <= 0.149\\ngini = 0.439\\nsamples = 28\\nvalue = [14.0, 29.0]\\nclass = spam'),\n",
              " Text(0.8307246376811595, 0.8663366336633663, 'get <= 0.064\\ngini = 0.455\\nsamples = 26\\nvalue = [14, 26]\\nclass = spam'),\n",
              " Text(0.8245410628019324, 0.8564356435643564, 're <= 0.209\\ngini = 0.475\\nsamples = 23\\nvalue = [14, 22]\\nclass = spam'),\n",
              " Text(0.8183574879227054, 0.8465346534653465, 'free <= 0.066\\ngini = 0.457\\nsamples = 22\\nvalue = [12, 22]\\nclass = spam'),\n",
              " Text(0.8121739130434783, 0.8366336633663366, 'place <= 0.297\\ngini = 0.475\\nsamples = 20\\nvalue = [12, 19]\\nclass = spam'),\n",
              " Text(0.8059903381642513, 0.8267326732673267, 'deliveri <= 0.127\\ngini = 0.393\\nsamples = 17\\nvalue = [7, 19]\\nclass = spam'),\n",
              " Text(0.7998067632850242, 0.8168316831683168, '350 <= 0.135\\ngini = 0.423\\nsamples = 14\\nvalue = [7, 16]\\nclass = spam'),\n",
              " Text(0.7936231884057972, 0.806930693069307, 'execut <= 0.184\\ngini = 0.444\\nsamples = 12\\nvalue = [7, 14]\\nclass = spam'),\n",
              " Text(0.7874396135265701, 0.7970297029702971, 'advis <= 0.161\\ngini = 0.388\\nsamples = 11\\nvalue = [5, 14]\\nclass = spam'),\n",
              " Text(0.7812560386473429, 0.7871287128712872, 'opt <= 0.113\\ngini = 0.444\\nsamples = 9\\nvalue = [5, 10]\\nclass = spam'),\n",
              " Text(0.7750724637681159, 0.7772277227722773, '150 <= 0.156\\ngini = 0.473\\nsamples = 8\\nvalue = [5, 8]\\nclass = spam'),\n",
              " Text(0.7688888888888888, 0.7673267326732673, 'voic <= 0.182\\ngini = 0.486\\nsamples = 7\\nvalue = [5, 7]\\nclass = spam'),\n",
              " Text(0.7627053140096618, 0.7574257425742574, '87239 <= 0.139\\ngini = 0.42\\nsamples = 6\\nvalue = [3, 7]\\nclass = spam'),\n",
              " Text(0.7565217391304347, 0.7475247524752475, 'us <= 0.139\\ngini = 0.469\\nsamples = 4\\nvalue = [3, 5]\\nclass = spam'),\n",
              " Text(0.7503381642512077, 0.7376237623762376, 'gini = 0.0\\nsamples = 3\\nvalue = [0, 5]\\nclass = spam'),\n",
              " Text(0.7627053140096618, 0.7376237623762376, 'gini = 0.0\\nsamples = 1\\nvalue = [3, 0]\\nclass = ham'),\n",
              " Text(0.7688888888888888, 0.7475247524752475, 'gini = 0.0\\nsamples = 2\\nvalue = [0, 2]\\nclass = spam'),\n",
              " Text(0.7750724637681159, 0.7574257425742574, 'gini = 0.0\\nsamples = 1\\nvalue = [2, 0]\\nclass = ham'),\n",
              " Text(0.7812560386473429, 0.7673267326732673, 'gini = 0.0\\nsamples = 1\\nvalue = [0, 1]\\nclass = spam'),\n",
              " Text(0.7874396135265701, 0.7772277227722773, 'gini = 0.0\\nsamples = 1\\nvalue = [0, 2]\\nclass = spam'),\n",
              " Text(0.7936231884057972, 0.7871287128712872, 'gini = 0.0\\nsamples = 2\\nvalue = [0, 4]\\nclass = spam'),\n",
              " Text(0.7998067632850242, 0.7970297029702971, 'gini = 0.0\\nsamples = 1\\nvalue = [2, 0]\\nclass = ham'),\n",
              " Text(0.8059903381642513, 0.806930693069307, 'gini = 0.0\\nsamples = 2\\nvalue = [0, 2]\\nclass = spam'),\n",
              " Text(0.8121739130434783, 0.8168316831683168, 'gini = 0.0\\nsamples = 3\\nvalue = [0, 3]\\nclass = spam'),\n",
              " Text(0.8183574879227054, 0.8267326732673267, 'gini = 0.0\\nsamples = 3\\nvalue = [5, 0]\\nclass = ham'),\n",
              " Text(0.8245410628019324, 0.8366336633663366, 'gini = 0.0\\nsamples = 2\\nvalue = [0, 3]\\nclass = spam'),\n",
              " Text(0.8307246376811595, 0.8465346534653465, 'gini = 0.0\\nsamples = 1\\nvalue = [2, 0]\\nclass = ham'),\n",
              " Text(0.8369082125603865, 0.8564356435643564, 'gini = 0.0\\nsamples = 3\\nvalue = [0, 4]\\nclass = spam'),\n",
              " Text(0.8430917874396135, 0.8663366336633663, 'gini = 0.0\\nsamples = 2\\nvalue = [0, 3]\\nclass = spam'),\n",
              " Text(0.8206763285024155, 0.8861386138613861, 'gini = 0.0\\nsamples = 4\\nvalue = [0, 4]\\nclass = spam'),\n",
              " Text(0.8268599033816425, 0.8960396039603961, 'gini = 0.0\\nsamples = 7\\nvalue = [0, 9]\\nclass = spam'),\n",
              " Text(0.8330434782608696, 0.905940594059406, 'gini = 0.0\\nsamples = 4\\nvalue = [0, 8]\\nclass = spam'),\n",
              " Text(0.8515942028985507, 0.9158415841584159, 'xxx <= 0.202\\ngini = 0.298\\nsamples = 6\\nvalue = [2, 9]\\nclass = spam'),\n",
              " Text(0.8454106280193237, 0.905940594059406, '03 <= 0.117\\ngini = 0.18\\nsamples = 5\\nvalue = [1, 9]\\nclass = spam'),\n",
              " Text(0.8392270531400966, 0.8960396039603961, 'gini = 0.0\\nsamples = 1\\nvalue = [1, 0]\\nclass = ham'),\n",
              " Text(0.8515942028985507, 0.8960396039603961, 'gini = 0.0\\nsamples = 4\\nvalue = [0, 9]\\nclass = spam'),\n",
              " Text(0.8577777777777778, 0.905940594059406, 'gini = 0.0\\nsamples = 1\\nvalue = [1, 0]\\nclass = ham'),\n",
              " Text(0.8515942028985507, 0.9257425742574258, 'gini = 0.0\\nsamples = 6\\nvalue = [0, 7]\\nclass = spam'),\n",
              " Text(0.8577777777777778, 0.9356435643564357, 'gini = 0.0\\nsamples = 4\\nvalue = [0, 8]\\nclass = spam'),\n",
              " Text(0.89487922705314, 0.9455445544554455, 'untam <= 0.141\\ngini = 0.26\\nsamples = 10\\nvalue = [2, 11]\\nclass = spam'),\n",
              " Text(0.888695652173913, 0.9356435643564357, 'bid <= 0.175\\ngini = 0.278\\nsamples = 9\\nvalue = [2, 10]\\nclass = spam'),\n",
              " Text(0.882512077294686, 0.9257425742574258, 'period <= 0.173\\ngini = 0.32\\nsamples = 8\\nvalue = [2, 8]\\nclass = spam'),\n",
              " Text(0.8763285024154589, 0.9158415841584159, '150p <= 0.078\\ngini = 0.198\\nsamples = 7\\nvalue = [1, 8]\\nclass = spam'),\n",
              " Text(0.8701449275362318, 0.905940594059406, 'alon <= 0.267\\ngini = 0.5\\nsamples = 2\\nvalue = [1, 1]\\nclass = ham'),\n",
              " Text(0.8639613526570048, 0.8960396039603961, 'gini = 0.0\\nsamples = 1\\nvalue = [0, 1]\\nclass = spam'),\n",
              " Text(0.8763285024154589, 0.8960396039603961, 'gini = 0.0\\nsamples = 1\\nvalue = [1, 0]\\nclass = ham'),\n",
              " Text(0.882512077294686, 0.905940594059406, 'gini = 0.0\\nsamples = 5\\nvalue = [0, 7]\\nclass = spam'),\n",
              " Text(0.888695652173913, 0.9158415841584159, 'gini = 0.0\\nsamples = 1\\nvalue = [1, 0]\\nclass = ham'),\n",
              " Text(0.89487922705314, 0.9257425742574258, 'gini = 0.0\\nsamples = 1\\nvalue = [0, 2]\\nclass = spam'),\n",
              " Text(0.9010628019323671, 0.9356435643564357, 'gini = 0.0\\nsamples = 1\\nvalue = [0, 1]\\nclass = spam'),\n",
              " Text(0.9257971014492754, 0.9554455445544554, 'go <= 0.057\\ngini = 0.497\\nsamples = 14\\nvalue = [12, 14]\\nclass = spam'),\n",
              " Text(0.9196135265700484, 0.9455445544554455, 'www <= 0.083\\ngini = 0.496\\nsamples = 12\\nvalue = [12, 10]\\nclass = ham'),\n",
              " Text(0.9134299516908213, 0.9356435643564357, '0a <= 0.213\\ngini = 0.444\\nsamples = 10\\nvalue = [12, 6]\\nclass = ham'),\n",
              " Text(0.9072463768115943, 0.9257425742574258, 'unlimit <= 0.144\\ngini = 0.415\\nsamples = 9\\nvalue = [12, 5]\\nclass = ham'),\n",
              " Text(0.9010628019323671, 0.9158415841584159, 'quickli <= 0.151\\ngini = 0.32\\nsamples = 8\\nvalue = [12, 3]\\nclass = ham'),\n",
              " Text(0.89487922705314, 0.905940594059406, 'later <= 0.185\\ngini = 0.355\\nsamples = 7\\nvalue = [10, 3]\\nclass = ham'),\n",
              " Text(0.888695652173913, 0.8960396039603961, 'support <= 0.186\\ngini = 0.444\\nsamples = 5\\nvalue = [6, 3]\\nclass = ham'),\n",
              " Text(0.882512077294686, 0.8861386138613861, 'free <= 0.072\\ngini = 0.48\\nsamples = 3\\nvalue = [2, 3]\\nclass = spam'),\n",
              " Text(0.8763285024154589, 0.8762376237623762, 'gini = 0.0\\nsamples = 1\\nvalue = [2, 0]\\nclass = ham'),\n",
              " Text(0.888695652173913, 0.8762376237623762, 'gini = 0.0\\nsamples = 2\\nvalue = [0, 3]\\nclass = spam'),\n",
              " Text(0.89487922705314, 0.8861386138613861, 'gini = 0.0\\nsamples = 2\\nvalue = [4, 0]\\nclass = ham'),\n",
              " Text(0.9010628019323671, 0.8960396039603961, 'gini = 0.0\\nsamples = 2\\nvalue = [4, 0]\\nclass = ham'),\n",
              " Text(0.9072463768115943, 0.905940594059406, 'gini = 0.0\\nsamples = 1\\nvalue = [2, 0]\\nclass = ham'),\n",
              " Text(0.9134299516908213, 0.9158415841584159, 'gini = 0.0\\nsamples = 1\\nvalue = [0, 2]\\nclass = spam'),\n",
              " Text(0.9196135265700484, 0.9257425742574258, 'gini = 0.0\\nsamples = 1\\nvalue = [0, 1]\\nclass = spam'),\n",
              " Text(0.9257971014492754, 0.9356435643564357, 'gini = 0.0\\nsamples = 2\\nvalue = [0, 4]\\nclass = spam'),\n",
              " Text(0.9319806763285025, 0.9455445544554455, 'gini = 0.0\\nsamples = 2\\nvalue = [0, 4]\\nclass = spam'),\n",
              " Text(0.9567149758454107, 0.9653465346534653, 'farm <= 0.157\\ngini = 0.133\\nsamples = 32\\nvalue = [4, 52]\\nclass = spam'),\n",
              " Text(0.9505314009661836, 0.9554455445544554, 'pleas <= 0.095\\ngini = 0.037\\nsamples = 31\\nvalue = [1, 52]\\nclass = spam'),\n",
              " Text(0.9443478260869566, 0.9455445544554455, 'shag <= 0.139\\ngini = 0.038\\nsamples = 29\\nvalue = [1, 50]\\nclass = spam'),\n",
              " Text(0.9381642512077295, 0.9356435643564357, 'opt <= 0.1\\ngini = 0.041\\nsamples = 28\\nvalue = [1, 47]\\nclass = spam'),\n",
              " Text(0.9319806763285025, 0.9257425742574258, 'notxt <= 0.134\\ngini = 0.05\\nsamples = 24\\nvalue = [1, 38]\\nclass = spam'),\n",
              " Text(0.9257971014492754, 0.9158415841584159, 'box39822 <= 0.122\\ngini = 0.053\\nsamples = 23\\nvalue = [1, 36]\\nclass = spam'),\n",
              " Text(0.9196135265700484, 0.905940594059406, '16 <= 0.114\\ngini = 0.059\\nsamples = 21\\nvalue = [1, 32]\\nclass = spam'),\n",
              " Text(0.9134299516908213, 0.8960396039603961, '9061100010 <= 0.134\\ngini = 0.064\\nsamples = 20\\nvalue = [1, 29]\\nclass = spam'),\n",
              " Text(0.9072463768115943, 0.8861386138613861, '30 <= 0.144\\ngini = 0.069\\nsamples = 19\\nvalue = [1, 27]\\nclass = spam'),\n",
              " Text(0.9010628019323671, 0.8762376237623762, 'gini = 0.0\\nsamples = 18\\nvalue = [0, 27]\\nclass = spam'),\n",
              " Text(0.9134299516908213, 0.8762376237623762, 'gini = 0.0\\nsamples = 1\\nvalue = [1, 0]\\nclass = ham'),\n",
              " Text(0.9196135265700484, 0.8861386138613861, 'gini = 0.0\\nsamples = 1\\nvalue = [0, 2]\\nclass = spam'),\n",
              " Text(0.9257971014492754, 0.8960396039603961, 'gini = 0.0\\nsamples = 1\\nvalue = [0, 3]\\nclass = spam'),\n",
              " Text(0.9319806763285025, 0.905940594059406, 'gini = 0.0\\nsamples = 2\\nvalue = [0, 4]\\nclass = spam'),\n",
              " Text(0.9381642512077295, 0.9158415841584159, 'gini = 0.0\\nsamples = 1\\nvalue = [0, 2]\\nclass = spam'),\n",
              " Text(0.9443478260869566, 0.9257425742574258, 'gini = 0.0\\nsamples = 4\\nvalue = [0, 9]\\nclass = spam'),\n",
              " Text(0.9505314009661836, 0.9356435643564357, 'gini = 0.0\\nsamples = 1\\nvalue = [0, 3]\\nclass = spam'),\n",
              " Text(0.9567149758454107, 0.9455445544554455, 'gini = 0.0\\nsamples = 2\\nvalue = [0, 2]\\nclass = spam'),\n",
              " Text(0.9628985507246377, 0.9554455445544554, 'gini = 0.0\\nsamples = 1\\nvalue = [3, 0]\\nclass = ham'),\n",
              " Text(0.9876328502415459, 0.9752475247524752, 'tell <= 0.069\\ngini = 0.198\\nsamples = 6\\nvalue = [1, 8]\\nclass = spam'),\n",
              " Text(0.9814492753623189, 0.9653465346534653, 'drive <= 0.32\\ngini = 0.444\\nsamples = 3\\nvalue = [1, 2]\\nclass = spam'),\n",
              " Text(0.9752657004830918, 0.9554455445544554, 'gini = 0.0\\nsamples = 2\\nvalue = [0, 2]\\nclass = spam'),\n",
              " Text(0.9876328502415459, 0.9554455445544554, 'gini = 0.0\\nsamples = 1\\nvalue = [1, 0]\\nclass = ham'),\n",
              " Text(0.993816425120773, 0.9653465346534653, 'gini = 0.0\\nsamples = 3\\nvalue = [0, 6]\\nclass = spam'),\n",
              " Text(0.9702415458937198, 0.9851485148514851, 'gini = 0.0\\nsamples = 3\\nvalue = [0, 7]\\nclass = spam'),\n",
              " Text(0.9671497584541062, 0.9900990099009901, '  False')]"
            ]
          },
          "execution_count": 29,
          "metadata": {},
          "output_type": "execute_result"
        },
        {
          "data": {
            "image/png": "[encoded data removed]",
            "text/plain": [
              "<Figure size 2000x1000 with 1 Axes>"
            ]
          },
          "metadata": {},
          "output_type": "display_data"
        }
      ],
      "source": [
        "single_tree = rdF.estimators_[0]\n",
        "\n",
        "plt.figure(figsize=(20, 10))\n",
        "from sklearn.tree import plot_tree\n",
        "plot_tree(single_tree, filled=True, feature_names=tfidf.get_feature_names_out(), class_names=['ham', 'spam'])"
      ]
    },
    {
      "cell_type": "code",
      "execution_count": 30,
      "metadata": {
        "colab": {
          "base_uri": "https://localhost:8080/"
        },
        "id": "k7g-UFcbswbz",
        "outputId": "a4be02cb-17d0-4ff0-ce3e-bbbb19eb082c"
      },
      "outputs": [
        {
          "name": "stdout",
          "output_type": "stream",
          "text": [
            "              precision    recall  f1-score   support\n",
            "\n",
            "           0     0.9865    0.9774    0.9819       974\n",
            "           1     0.8533    0.9078    0.8797       141\n",
            "\n",
            "    accuracy                         0.9686      1115\n",
            "   macro avg     0.9199    0.9426    0.9308      1115\n",
            "weighted avg     0.9697    0.9686    0.9690      1115\n",
            "\n"
          ]
        }
      ],
      "source": [
        "from sklearn.tree import DecisionTreeClassifier\n",
        "from sklearn import tree\n",
        "\n",
        "clf = tree.DecisionTreeClassifier()\n",
        "clf.fit(x_train, y_train)\n",
        "\n",
        "pred_clf = clf.predict(x_test)\n",
        "\n",
        "print(classification_report(pred_clf, y_test, labels=None, digits=4))"
      ]
    },
    {
      "cell_type": "code",
      "execution_count": 31,
      "metadata": {
        "id": "6Q220-ZCsweJ"
      },
      "outputs": [],
      "source": [
        "if isinstance(x, pd.DataFrame) or isinstance(x, np.ndarray):\n",
        "    x = np.array(x)\n",
        "if len(x.shape) == 1:\n",
        "    x = x.reshape(-1, 1)\n",
        "y = np.array(y).ravel()"
      ]
    },
    {
      "cell_type": "code",
      "execution_count": 32,
      "metadata": {
        "id": "Ob5dR1qBswgh"
      },
      "outputs": [],
      "source": [
        "from imblearn.over_sampling import SMOTE\n",
        "\n",
        "smote = SMOTE(random_state=42)\n",
        "x_resampled, y_resampled = smote.fit_resample(x, y)\n",
        "\n",
        "x_train, x_test, y_train, y_test = train_test_split(x_resampled, y_resampled, test_size=0.2, random_state=42)"
      ]
    },
    {
      "cell_type": "code",
      "execution_count": 33,
      "metadata": {
        "colab": {
          "base_uri": "https://localhost:8080/"
        },
        "id": "MMsm-8vdswi3",
        "outputId": "6f695a95-3a2d-4ea2-b52d-2b14fae5172a"
      },
      "outputs": [
        {
          "name": "stdout",
          "output_type": "stream",
          "text": [
            "              precision    recall  f1-score   support\n",
            "\n",
            "           0     0.9817    0.9949    0.9882       972\n",
            "           1     0.9947    0.9812    0.9879       958\n",
            "\n",
            "    accuracy                         0.9881      1930\n",
            "   macro avg     0.9882    0.9880    0.9881      1930\n",
            "weighted avg     0.9882    0.9881    0.9881      1930\n",
            "\n"
          ]
        }
      ],
      "source": [
        "nb_model = MultinomialNB()\n",
        "nb_model.fit(x_train, y_train)\n",
        "\n",
        "y_pred_MNB = nb_model.predict(x_test)\n",
        "\n",
        "print(classification_report(y_pred_MNB, y_test, labels=None, digits=4))"
      ]
    },
    {
      "cell_type": "code",
      "execution_count": 34,
      "metadata": {
        "colab": {
          "base_uri": "https://localhost:8080/"
        },
        "id": "v8l4Dvwsswmd",
        "outputId": "26e93f2d-c9c5-4776-f852-c0515e534527"
      },
      "outputs": [
        {
          "name": "stdout",
          "output_type": "stream",
          "text": [
            "              precision    recall  f1-score   support\n",
            "\n",
            "           0     0.8640    1.0000    0.9270       851\n",
            "           1     1.0000    0.8758    0.9338      1079\n",
            "\n",
            "    accuracy                         0.9306      1930\n",
            "   macro avg     0.9320    0.9379    0.9304      1930\n",
            "weighted avg     0.9400    0.9306    0.9308      1930\n",
            "\n"
          ]
        }
      ],
      "source": [
        "gnb = GaussianNB()\n",
        "gnb.fit(x_train, y_train)\n",
        "pred_GNB = gnb.predict(x_test)\n",
        "\n",
        "print(classification_report(pred_GNB, y_test, labels=None, digits=4))"
      ]
    },
    {
      "cell_type": "code",
      "execution_count": 35,
      "metadata": {
        "colab": {
          "base_uri": "https://localhost:8080/"
        },
        "id": "ldFqx1yTtCVD",
        "outputId": "1c517024-092a-4738-d42f-59c3a0d4b71b"
      },
      "outputs": [
        {
          "name": "stdout",
          "output_type": "stream",
          "text": [
            "              precision    recall  f1-score   support\n",
            "\n",
            "           0     1.0000    0.9919    0.9960       993\n",
            "           1     0.9915    1.0000    0.9957       937\n",
            "\n",
            "    accuracy                         0.9959      1930\n",
            "   macro avg     0.9958    0.9960    0.9959      1930\n",
            "weighted avg     0.9959    0.9959    0.9959      1930\n",
            "\n"
          ]
        }
      ],
      "source": [
        "from sklearn.naive_bayes import BernoulliNB\n",
        "\n",
        "bnb = BernoulliNB()\n",
        "bnb.fit(x_train, y_train)\n",
        "pred_BNB = bnb.predict(x_test)\n",
        "print(classification_report(pred_BNB, y_test, labels=None, digits=4))"
      ]
    },
    {
      "cell_type": "code",
      "execution_count": 36,
      "metadata": {
        "colab": {
          "base_uri": "https://localhost:8080/"
        },
        "id": "aFLJDSdXtCXN",
        "outputId": "3fc90d4b-d1c4-42c3-f147-2857616a8a93"
      },
      "outputs": [
        {
          "name": "stdout",
          "output_type": "stream",
          "text": [
            "              precision    recall  f1-score   support\n",
            "\n",
            "           0     1.0000    0.9919    0.9960       993\n",
            "           1     0.9915    1.0000    0.9957       937\n",
            "\n",
            "    accuracy                         0.9959      1930\n",
            "   macro avg     0.9958    0.9960    0.9959      1930\n",
            "weighted avg     0.9959    0.9959    0.9959      1930\n",
            "\n"
          ]
        }
      ],
      "source": [
        "xgb_clf = XGBClassifier()\n",
        "xgb_clf=XGBClassifier(base_score=0.5, booster='gbtree', colsample_bylevel=1,\n",
        "              colsample_bynode=1, colsample_bytree=1, gamma=0,\n",
        "              learning_rate=0.1, max_delta_step=0, max_depth=10,\n",
        "              min_child_weight=1, missing=1, n_estimators=150, n_jobs=1,\n",
        "              nthread=None, objective='binary:logistic', random_state=0,\n",
        "              reg_alpha=0, reg_lambda=1, scale_pos_weight=1, seed=None,\n",
        "              silent=None, subsample=1, verbosity=1)\n",
        "\n",
        "xgb_clf.fit(x_train, y_train)\n",
        "pred_X = bnb.predict(x_test)\n",
        "print(classification_report(pred_X, y_test, labels=None, digits=4))"
      ]
    },
    {
      "cell_type": "code",
      "execution_count": 37,
      "metadata": {
        "colab": {
          "base_uri": "https://localhost:8080/"
        },
        "id": "EZ2i6pzdtCZW",
        "outputId": "2532adee-7a63-4144-88c6-5b63bd032faf"
      },
      "outputs": [
        {
          "name": "stdout",
          "output_type": "stream",
          "text": [
            "              precision    recall  f1-score   support\n",
            "\n",
            "           0     0.9990    0.9919    0.9954       992\n",
            "           1     0.9915    0.9989    0.9952       938\n",
            "\n",
            "    accuracy                         0.9953      1930\n",
            "   macro avg     0.9953    0.9954    0.9953      1930\n",
            "weighted avg     0.9954    0.9953    0.9953      1930\n",
            "\n"
          ]
        }
      ],
      "source": [
        "rdF = RF(n_estimators=20, max_depth=100,random_state=64)\n",
        "rdF.fit(x_train, y_train)\n",
        "pred_RF = rdF.predict(x_test)\n",
        "print(classification_report(pred_RF, y_test, labels=None, digits=4))"
      ]
    },
    {
      "cell_type": "code",
      "execution_count": 38,
      "metadata": {
        "colab": {
          "base_uri": "https://localhost:8080/"
        },
        "id": "xd3Lk-BgtCb0",
        "outputId": "95806d35-3a79-4579-f5cd-72f93ce9a425"
      },
      "outputs": [
        {
          "name": "stdout",
          "output_type": "stream",
          "text": [
            "              precision    recall  f1-score   support\n",
            "\n",
            "           0     0.9624    0.9844    0.9733       963\n",
            "           1     0.9841    0.9617    0.9728       967\n",
            "\n",
            "    accuracy                         0.9731      1930\n",
            "   macro avg     0.9733    0.9731    0.9731      1930\n",
            "weighted avg     0.9733    0.9731    0.9731      1930\n",
            "\n"
          ]
        }
      ],
      "source": [
        "clf = DecisionTreeClassifier()\n",
        "clf.fit(x_train, y_train)\n",
        "\n",
        "pred_clf = clf.predict(x_test)\n",
        "\n",
        "print(classification_report(pred_clf, y_test, labels=None, digits=4))"
      ]
    },
    {
      "cell_type": "code",
      "execution_count": 39,
      "metadata": {
        "id": "20URkbwDtCeL"
      },
      "outputs": [],
      "source": [
        "from imblearn.under_sampling import RandomUnderSampler\n",
        "\n",
        "undersampler = RandomUnderSampler(random_state=42)\n",
        "x_resampled, y_resampled = undersampler.fit_resample(x, y)\n",
        "\n",
        "x_train, x_test, y_train, y_test = train_test_split(x_resampled, y_resampled, test_size=0.2, random_state=42)"
      ]
    },
    {
      "cell_type": "code",
      "execution_count": 40,
      "metadata": {
        "colab": {
          "base_uri": "https://localhost:8080/"
        },
        "id": "t9nkSNBRtCgj",
        "outputId": "ea0f3f5f-6bf2-4cd1-b08a-4a284a2dd79a"
      },
      "outputs": [
        {
          "name": "stdout",
          "output_type": "stream",
          "text": [
            "              precision    recall  f1-score   support\n",
            "\n",
            "           0     0.9172    0.9779    0.9466       136\n",
            "           1     0.9805    0.9264    0.9527       163\n",
            "\n",
            "    accuracy                         0.9498       299\n",
            "   macro avg     0.9489    0.9522    0.9497       299\n",
            "weighted avg     0.9517    0.9498    0.9499       299\n",
            "\n"
          ]
        }
      ],
      "source": [
        "nb_model = MultinomialNB()\n",
        "nb_model.fit(x_train, y_train)\n",
        "y_pred_MNB = nb_model.predict(x_test)\n",
        "print(classification_report(y_pred_MNB, y_test, labels=None, digits=4))"
      ]
    },
    {
      "cell_type": "code",
      "execution_count": 41,
      "metadata": {
        "colab": {
          "base_uri": "https://localhost:8080/"
        },
        "id": "f3ItvphotCkG",
        "outputId": "d114f261-f342-4d6d-9d69-01c66d7e3697"
      },
      "outputs": [
        {
          "name": "stdout",
          "output_type": "stream",
          "text": [
            "              precision    recall  f1-score   support\n",
            "\n",
            "           0     0.9034    0.9562    0.9291       137\n",
            "           1     0.9610    0.9136    0.9367       162\n",
            "\n",
            "    accuracy                         0.9331       299\n",
            "   macro avg     0.9322    0.9349    0.9329       299\n",
            "weighted avg     0.9347    0.9331    0.9332       299\n",
            "\n"
          ]
        }
      ],
      "source": [
        "gnb = GaussianNB()\n",
        "gnb.fit(x_train, y_train)\n",
        "pred_GNB = gnb.predict(x_test)\n",
        "\n",
        "print(classification_report(pred_GNB, y_test, labels=None, digits=4))"
      ]
    },
    {
      "cell_type": "code",
      "execution_count": 42,
      "metadata": {
        "colab": {
          "base_uri": "https://localhost:8080/"
        },
        "id": "ieCmC-WUtTo2",
        "outputId": "a817d5ff-2d21-4805-8b0d-2688630a5c61"
      },
      "outputs": [
        {
          "name": "stdout",
          "output_type": "stream",
          "text": [
            "              precision    recall  f1-score   support\n",
            "\n",
            "           0     1.0000    0.8841    0.9385       164\n",
            "           1     0.8766    1.0000    0.9343       135\n",
            "\n",
            "    accuracy                         0.9365       299\n",
            "   macro avg     0.9383    0.9421    0.9364       299\n",
            "weighted avg     0.9443    0.9365    0.9366       299\n",
            "\n"
          ]
        }
      ],
      "source": [
        "bnb = BernoulliNB()\n",
        "bnb.fit(x_train, y_train)\n",
        "pred_BNB = bnb.predict(x_test)\n",
        "print(classification_report(pred_BNB, y_test, labels=None, digits=4))"
      ]
    },
    {
      "cell_type": "code",
      "execution_count": 43,
      "metadata": {
        "colab": {
          "base_uri": "https://localhost:8080/"
        },
        "id": "-iPvR5qFtTrS",
        "outputId": "04fe3b47-eb08-46ee-a197-8ee51132d0e5"
      },
      "outputs": [
        {
          "name": "stdout",
          "output_type": "stream",
          "text": [
            "              precision    recall  f1-score   support\n",
            "\n",
            "           0     1.0000    0.8841    0.9385       164\n",
            "           1     0.8766    1.0000    0.9343       135\n",
            "\n",
            "    accuracy                         0.9365       299\n",
            "   macro avg     0.9383    0.9421    0.9364       299\n",
            "weighted avg     0.9443    0.9365    0.9366       299\n",
            "\n"
          ]
        }
      ],
      "source": [
        "xgb_clf = XGBClassifier()\n",
        "xgb_clf=XGBClassifier(base_score=0.5, booster='gbtree', colsample_bylevel=1,\n",
        "              colsample_bynode=1, colsample_bytree=1, gamma=0,\n",
        "              learning_rate=0.1, max_delta_step=0, max_depth=10,\n",
        "              min_child_weight=1, missing=1, n_estimators=150, n_jobs=1,\n",
        "              nthread=None, objective='binary:logistic', random_state=0,\n",
        "              reg_alpha=0, reg_lambda=1, scale_pos_weight=1, seed=None,\n",
        "              silent=None, subsample=1, verbosity=1)\n",
        "\n",
        "xgb_clf.fit(x_train, y_train)\n",
        "pred_X = bnb.predict(x_test)\n",
        "print(classification_report(pred_X, y_test, labels=None, digits=4))"
      ]
    },
    {
      "cell_type": "code",
      "execution_count": 60,
      "metadata": {
        "colab": {
          "base_uri": "https://localhost:8080/"
        },
        "id": "QJyLZzJ-xuMr",
        "outputId": "a9d3824b-e9f1-4fb2-df4d-2387d3e82ba4"
      },
      "outputs": [
        {
          "name": "stdout",
          "output_type": "stream",
          "text": [
            "              precision    recall  f1-score   support\n",
            "\n",
            "           0     0.9140    0.9599    0.9364       299\n",
            "           1     0.9577    0.9097    0.9331       299\n",
            "\n",
            "    accuracy                         0.9348       598\n",
            "   macro avg     0.9359    0.9348    0.9347       598\n",
            "weighted avg     0.9359    0.9348    0.9347       598\n",
            "\n"
          ]
        }
      ],
      "source": [
        "clf = DecisionTreeClassifier()\n",
        "clf.fit(x_train, y_train)\n",
        "\n",
        "pred_clf = clf.predict(x_test)\n",
        "\n",
        "print(classification_report(pred_clf, y_test, labels=None, digits=4))"
      ]
    },
    {
      "cell_type": "code",
      "execution_count": 46,
      "metadata": {
        "id": "gc3F-4sNtTy0"
      },
      "outputs": [],
      "source": [
        "x_train, x_test, y_train, y_test = train_test_split(x, y, test_size=0.2, random_state=42)"
      ]
    },
    {
      "cell_type": "code",
      "execution_count": 62,
      "metadata": {
        "colab": {
          "base_uri": "https://localhost:8080/",
          "height": 80
        },
        "id": "Zw-IRQUNx3cT",
        "outputId": "79aee913-e13d-41b7-b0d6-1978b1b43b76"
      },
      "outputs": [
        {
          "data": {
            "text/html": [
              "<style>#sk-container-id-3 {\n",
              "  /* Definition of color scheme common for light and dark mode */\n",
              "  --sklearn-color-text: #000;\n",
              "  --sklearn-color-text-muted: #666;\n",
              "  --sklearn-color-line: gray;\n",
              "  /* Definition of color scheme for unfitted estimators */\n",
              "  --sklearn-color-unfitted-level-0: #fff5e6;\n",
              "  --sklearn-color-unfitted-level-1: #f6e4d2;\n",
              "  --sklearn-color-unfitted-level-2: #ffe0b3;\n",
              "  --sklearn-color-unfitted-level-3: chocolate;\n",
              "  /* Definition of color scheme for fitted estimators */\n",
              "  --sklearn-color-fitted-level-0: #f0f8ff;\n",
              "  --sklearn-color-fitted-level-1: #d4ebff;\n",
              "  --sklearn-color-fitted-level-2: #b3dbfd;\n",
              "  --sklearn-color-fitted-level-3: cornflowerblue;\n",
              "\n",
              "  /* Specific color for light theme */\n",
              "  --sklearn-color-text-on-default-background: var(--sg-text-color, var(--theme-code-foreground, var(--jp-content-font-color1, black)));\n",
              "  --sklearn-color-background: var(--sg-background-color, var(--theme-background, var(--jp-layout-color0, white)));\n",
              "  --sklearn-color-border-box: var(--sg-text-color, var(--theme-code-foreground, var(--jp-content-font-color1, black)));\n",
              "  --sklearn-color-icon: #696969;\n",
              "\n",
              "  @media (prefers-color-scheme: dark) {\n",
              "    /* Redefinition of color scheme for dark theme */\n",
              "    --sklearn-color-text-on-default-background: var(--sg-text-color, var(--theme-code-foreground, var(--jp-content-font-color1, white)));\n",
              "    --sklearn-color-background: var(--sg-background-color, var(--theme-background, var(--jp-layout-color0, #111)));\n",
              "    --sklearn-color-border-box: var(--sg-text-color, var(--theme-code-foreground, var(--jp-content-font-color1, white)));\n",
              "    --sklearn-color-icon: #878787;\n",
              "  }\n",
              "}\n",
              "\n",
              "#sk-container-id-3 {\n",
              "  color: var(--sklearn-color-text);\n",
              "}\n",
              "\n",
              "#sk-container-id-3 pre {\n",
              "  padding: 0;\n",
              "}\n",
              "\n",
              "#sk-container-id-3 input.sk-hidden--visually {\n",
              "  border: 0;\n",
              "  clip: rect(1px 1px 1px 1px);\n",
              "  clip: rect(1px, 1px, 1px, 1px);\n",
              "  height: 1px;\n",
              "  margin: -1px;\n",
              "  overflow: hidden;\n",
              "  padding: 0;\n",
              "  position: absolute;\n",
              "  width: 1px;\n",
              "}\n",
              "\n",
              "#sk-container-id-3 div.sk-dashed-wrapped {\n",
              "  border: 1px dashed var(--sklearn-color-line);\n",
              "  margin: 0 0.4em 0.5em 0.4em;\n",
              "  box-sizing: border-box;\n",
              "  padding-bottom: 0.4em;\n",
              "  background-color: var(--sklearn-color-background);\n",
              "}\n",
              "\n",
              "#sk-container-id-3 div.sk-container {\n",
              "  /* jupyter's `normalize.less` sets `[hidden] { display: none; }`\n",
              "     but bootstrap.min.css set `[hidden] { display: none !important; }`\n",
              "     so we also need the `!important` here to be able to override the\n",
              "     default hidden behavior on the sphinx rendered scikit-learn.org.\n",
              "     See: https://github.com/scikit-learn/scikit-learn/issues/21755 */\n",
              "  display: inline-block !important;\n",
              "  position: relative;\n",
              "}\n",
              "\n",
              "#sk-container-id-3 div.sk-text-repr-fallback {\n",
              "  display: none;\n",
              "}\n",
              "\n",
              "div.sk-parallel-item,\n",
              "div.sk-serial,\n",
              "div.sk-item {\n",
              "  /* draw centered vertical line to link estimators */\n",
              "  background-image: linear-gradient(var(--sklearn-color-text-on-default-background), var(--sklearn-color-text-on-default-background));\n",
              "  background-size: 2px 100%;\n",
              "  background-repeat: no-repeat;\n",
              "  background-position: center center;\n",
              "}\n",
              "\n",
              "/* Parallel-specific style estimator block */\n",
              "\n",
              "#sk-container-id-3 div.sk-parallel-item::after {\n",
              "  content: \"\";\n",
              "  width: 100%;\n",
              "  border-bottom: 2px solid var(--sklearn-color-text-on-default-background);\n",
              "  flex-grow: 1;\n",
              "}\n",
              "\n",
              "#sk-container-id-3 div.sk-parallel {\n",
              "  display: flex;\n",
              "  align-items: stretch;\n",
              "  justify-content: center;\n",
              "  background-color: var(--sklearn-color-background);\n",
              "  position: relative;\n",
              "}\n",
              "\n",
              "#sk-container-id-3 div.sk-parallel-item {\n",
              "  display: flex;\n",
              "  flex-direction: column;\n",
              "}\n",
              "\n",
              "#sk-container-id-3 div.sk-parallel-item:first-child::after {\n",
              "  align-self: flex-end;\n",
              "  width: 50%;\n",
              "}\n",
              "\n",
              "#sk-container-id-3 div.sk-parallel-item:last-child::after {\n",
              "  align-self: flex-start;\n",
              "  width: 50%;\n",
              "}\n",
              "\n",
              "#sk-container-id-3 div.sk-parallel-item:only-child::after {\n",
              "  width: 0;\n",
              "}\n",
              "\n",
              "/* Serial-specific style estimator block */\n",
              "\n",
              "#sk-container-id-3 div.sk-serial {\n",
              "  display: flex;\n",
              "  flex-direction: column;\n",
              "  align-items: center;\n",
              "  background-color: var(--sklearn-color-background);\n",
              "  padding-right: 1em;\n",
              "  padding-left: 1em;\n",
              "}\n",
              "\n",
              "\n",
              "/* Toggleable style: style used for estimator/Pipeline/ColumnTransformer box that is\n",
              "clickable and can be expanded/collapsed.\n",
              "- Pipeline and ColumnTransformer use this feature and define the default style\n",
              "- Estimators will overwrite some part of the style using the `sk-estimator` class\n",
              "*/\n",
              "\n",
              "/* Pipeline and ColumnTransformer style (default) */\n",
              "\n",
              "#sk-container-id-3 div.sk-toggleable {\n",
              "  /* Default theme specific background. It is overwritten whether we have a\n",
              "  specific estimator or a Pipeline/ColumnTransformer */\n",
              "  background-color: var(--sklearn-color-background);\n",
              "}\n",
              "\n",
              "/* Toggleable label */\n",
              "#sk-container-id-3 label.sk-toggleable__label {\n",
              "  cursor: pointer;\n",
              "  display: flex;\n",
              "  width: 100%;\n",
              "  margin-bottom: 0;\n",
              "  padding: 0.5em;\n",
              "  box-sizing: border-box;\n",
              "  text-align: center;\n",
              "  align-items: start;\n",
              "  justify-content: space-between;\n",
              "  gap: 0.5em;\n",
              "}\n",
              "\n",
              "#sk-container-id-3 label.sk-toggleable__label .caption {\n",
              "  font-size: 0.6rem;\n",
              "  font-weight: lighter;\n",
              "  color: var(--sklearn-color-text-muted);\n",
              "}\n",
              "\n",
              "#sk-container-id-3 label.sk-toggleable__label-arrow:before {\n",
              "  /* Arrow on the left of the label */\n",
              "  content: \"▸\";\n",
              "  float: left;\n",
              "  margin-right: 0.25em;\n",
              "  color: var(--sklearn-color-icon);\n",
              "}\n",
              "\n",
              "#sk-container-id-3 label.sk-toggleable__label-arrow:hover:before {\n",
              "  color: var(--sklearn-color-text);\n",
              "}\n",
              "\n",
              "/* Toggleable content - dropdown */\n",
              "\n",
              "#sk-container-id-3 div.sk-toggleable__content {\n",
              "  max-height: 0;\n",
              "  max-width: 0;\n",
              "  overflow: hidden;\n",
              "  text-align: left;\n",
              "  /* unfitted */\n",
              "  background-color: var(--sklearn-color-unfitted-level-0);\n",
              "}\n",
              "\n",
              "#sk-container-id-3 div.sk-toggleable__content.fitted {\n",
              "  /* fitted */\n",
              "  background-color: var(--sklearn-color-fitted-level-0);\n",
              "}\n",
              "\n",
              "#sk-container-id-3 div.sk-toggleable__content pre {\n",
              "  margin: 0.2em;\n",
              "  border-radius: 0.25em;\n",
              "  color: var(--sklearn-color-text);\n",
              "  /* unfitted */\n",
              "  background-color: var(--sklearn-color-unfitted-level-0);\n",
              "}\n",
              "\n",
              "#sk-container-id-3 div.sk-toggleable__content.fitted pre {\n",
              "  /* unfitted */\n",
              "  background-color: var(--sklearn-color-fitted-level-0);\n",
              "}\n",
              "\n",
              "#sk-container-id-3 input.sk-toggleable__control:checked~div.sk-toggleable__content {\n",
              "  /* Expand drop-down */\n",
              "  max-height: 200px;\n",
              "  max-width: 100%;\n",
              "  overflow: auto;\n",
              "}\n",
              "\n",
              "#sk-container-id-3 input.sk-toggleable__control:checked~label.sk-toggleable__label-arrow:before {\n",
              "  content: \"▾\";\n",
              "}\n",
              "\n",
              "/* Pipeline/ColumnTransformer-specific style */\n",
              "\n",
              "#sk-container-id-3 div.sk-label input.sk-toggleable__control:checked~label.sk-toggleable__label {\n",
              "  color: var(--sklearn-color-text);\n",
              "  background-color: var(--sklearn-color-unfitted-level-2);\n",
              "}\n",
              "\n",
              "#sk-container-id-3 div.sk-label.fitted input.sk-toggleable__control:checked~label.sk-toggleable__label {\n",
              "  background-color: var(--sklearn-color-fitted-level-2);\n",
              "}\n",
              "\n",
              "/* Estimator-specific style */\n",
              "\n",
              "/* Colorize estimator box */\n",
              "#sk-container-id-3 div.sk-estimator input.sk-toggleable__control:checked~label.sk-toggleable__label {\n",
              "  /* unfitted */\n",
              "  background-color: var(--sklearn-color-unfitted-level-2);\n",
              "}\n",
              "\n",
              "#sk-container-id-3 div.sk-estimator.fitted input.sk-toggleable__control:checked~label.sk-toggleable__label {\n",
              "  /* fitted */\n",
              "  background-color: var(--sklearn-color-fitted-level-2);\n",
              "}\n",
              "\n",
              "#sk-container-id-3 div.sk-label label.sk-toggleable__label,\n",
              "#sk-container-id-3 div.sk-label label {\n",
              "  /* The background is the default theme color */\n",
              "  color: var(--sklearn-color-text-on-default-background);\n",
              "}\n",
              "\n",
              "/* On hover, darken the color of the background */\n",
              "#sk-container-id-3 div.sk-label:hover label.sk-toggleable__label {\n",
              "  color: var(--sklearn-color-text);\n",
              "  background-color: var(--sklearn-color-unfitted-level-2);\n",
              "}\n",
              "\n",
              "/* Label box, darken color on hover, fitted */\n",
              "#sk-container-id-3 div.sk-label.fitted:hover label.sk-toggleable__label.fitted {\n",
              "  color: var(--sklearn-color-text);\n",
              "  background-color: var(--sklearn-color-fitted-level-2);\n",
              "}\n",
              "\n",
              "/* Estimator label */\n",
              "\n",
              "#sk-container-id-3 div.sk-label label {\n",
              "  font-family: monospace;\n",
              "  font-weight: bold;\n",
              "  display: inline-block;\n",
              "  line-height: 1.2em;\n",
              "}\n",
              "\n",
              "#sk-container-id-3 div.sk-label-container {\n",
              "  text-align: center;\n",
              "}\n",
              "\n",
              "/* Estimator-specific */\n",
              "#sk-container-id-3 div.sk-estimator {\n",
              "  font-family: monospace;\n",
              "  border: 1px dotted var(--sklearn-color-border-box);\n",
              "  border-radius: 0.25em;\n",
              "  box-sizing: border-box;\n",
              "  margin-bottom: 0.5em;\n",
              "  /* unfitted */\n",
              "  background-color: var(--sklearn-color-unfitted-level-0);\n",
              "}\n",
              "\n",
              "#sk-container-id-3 div.sk-estimator.fitted {\n",
              "  /* fitted */\n",
              "  background-color: var(--sklearn-color-fitted-level-0);\n",
              "}\n",
              "\n",
              "/* on hover */\n",
              "#sk-container-id-3 div.sk-estimator:hover {\n",
              "  /* unfitted */\n",
              "  background-color: var(--sklearn-color-unfitted-level-2);\n",
              "}\n",
              "\n",
              "#sk-container-id-3 div.sk-estimator.fitted:hover {\n",
              "  /* fitted */\n",
              "  background-color: var(--sklearn-color-fitted-level-2);\n",
              "}\n",
              "\n",
              "/* Specification for estimator info (e.g. \"i\" and \"?\") */\n",
              "\n",
              "/* Common style for \"i\" and \"?\" */\n",
              "\n",
              ".sk-estimator-doc-link,\n",
              "a:link.sk-estimator-doc-link,\n",
              "a:visited.sk-estimator-doc-link {\n",
              "  float: right;\n",
              "  font-size: smaller;\n",
              "  line-height: 1em;\n",
              "  font-family: monospace;\n",
              "  background-color: var(--sklearn-color-background);\n",
              "  border-radius: 1em;\n",
              "  height: 1em;\n",
              "  width: 1em;\n",
              "  text-decoration: none !important;\n",
              "  margin-left: 0.5em;\n",
              "  text-align: center;\n",
              "  /* unfitted */\n",
              "  border: var(--sklearn-color-unfitted-level-1) 1pt solid;\n",
              "  color: var(--sklearn-color-unfitted-level-1);\n",
              "}\n",
              "\n",
              ".sk-estimator-doc-link.fitted,\n",
              "a:link.sk-estimator-doc-link.fitted,\n",
              "a:visited.sk-estimator-doc-link.fitted {\n",
              "  /* fitted */\n",
              "  border: var(--sklearn-color-fitted-level-1) 1pt solid;\n",
              "  color: var(--sklearn-color-fitted-level-1);\n",
              "}\n",
              "\n",
              "/* On hover */\n",
              "div.sk-estimator:hover .sk-estimator-doc-link:hover,\n",
              ".sk-estimator-doc-link:hover,\n",
              "div.sk-label-container:hover .sk-estimator-doc-link:hover,\n",
              ".sk-estimator-doc-link:hover {\n",
              "  /* unfitted */\n",
              "  background-color: var(--sklearn-color-unfitted-level-3);\n",
              "  color: var(--sklearn-color-background);\n",
              "  text-decoration: none;\n",
              "}\n",
              "\n",
              "div.sk-estimator.fitted:hover .sk-estimator-doc-link.fitted:hover,\n",
              ".sk-estimator-doc-link.fitted:hover,\n",
              "div.sk-label-container:hover .sk-estimator-doc-link.fitted:hover,\n",
              ".sk-estimator-doc-link.fitted:hover {\n",
              "  /* fitted */\n",
              "  background-color: var(--sklearn-color-fitted-level-3);\n",
              "  color: var(--sklearn-color-background);\n",
              "  text-decoration: none;\n",
              "}\n",
              "\n",
              "/* Span, style for the box shown on hovering the info icon */\n",
              ".sk-estimator-doc-link span {\n",
              "  display: none;\n",
              "  z-index: 9999;\n",
              "  position: relative;\n",
              "  font-weight: normal;\n",
              "  right: .2ex;\n",
              "  padding: .5ex;\n",
              "  margin: .5ex;\n",
              "  width: min-content;\n",
              "  min-width: 20ex;\n",
              "  max-width: 50ex;\n",
              "  color: var(--sklearn-color-text);\n",
              "  box-shadow: 2pt 2pt 4pt #999;\n",
              "  /* unfitted */\n",
              "  background: var(--sklearn-color-unfitted-level-0);\n",
              "  border: .5pt solid var(--sklearn-color-unfitted-level-3);\n",
              "}\n",
              "\n",
              ".sk-estimator-doc-link.fitted span {\n",
              "  /* fitted */\n",
              "  background: var(--sklearn-color-fitted-level-0);\n",
              "  border: var(--sklearn-color-fitted-level-3);\n",
              "}\n",
              "\n",
              ".sk-estimator-doc-link:hover span {\n",
              "  display: block;\n",
              "}\n",
              "\n",
              "/* \"?\"-specific style due to the `<a>` HTML tag */\n",
              "\n",
              "#sk-container-id-3 a.estimator_doc_link {\n",
              "  float: right;\n",
              "  font-size: 1rem;\n",
              "  line-height: 1em;\n",
              "  font-family: monospace;\n",
              "  background-color: var(--sklearn-color-background);\n",
              "  border-radius: 1rem;\n",
              "  height: 1rem;\n",
              "  width: 1rem;\n",
              "  text-decoration: none;\n",
              "  /* unfitted */\n",
              "  color: var(--sklearn-color-unfitted-level-1);\n",
              "  border: var(--sklearn-color-unfitted-level-1) 1pt solid;\n",
              "}\n",
              "\n",
              "#sk-container-id-3 a.estimator_doc_link.fitted {\n",
              "  /* fitted */\n",
              "  border: var(--sklearn-color-fitted-level-1) 1pt solid;\n",
              "  color: var(--sklearn-color-fitted-level-1);\n",
              "}\n",
              "\n",
              "/* On hover */\n",
              "#sk-container-id-3 a.estimator_doc_link:hover {\n",
              "  /* unfitted */\n",
              "  background-color: var(--sklearn-color-unfitted-level-3);\n",
              "  color: var(--sklearn-color-background);\n",
              "  text-decoration: none;\n",
              "}\n",
              "\n",
              "#sk-container-id-3 a.estimator_doc_link.fitted:hover {\n",
              "  /* fitted */\n",
              "  background-color: var(--sklearn-color-fitted-level-3);\n",
              "}\n",
              "</style><div id=\"sk-container-id-3\" class=\"sk-top-container\"><div class=\"sk-text-repr-fallback\"><pre>MultinomialNB(class_prior=[0.7, 0.3])</pre><b>In a Jupyter environment, please rerun this cell to show the HTML representation or trust the notebook. <br />On GitHub, the HTML representation is unable to render, please try loading this page with nbviewer.org.</b></div><div class=\"sk-container\" hidden><div class=\"sk-item\"><div class=\"sk-estimator fitted sk-toggleable\"><input class=\"sk-toggleable__control sk-hidden--visually\" id=\"sk-estimator-id-3\" type=\"checkbox\" checked><label for=\"sk-estimator-id-3\" class=\"sk-toggleable__label fitted sk-toggleable__label-arrow\"><div><div>MultinomialNB</div></div><div><a class=\"sk-estimator-doc-link fitted\" rel=\"noreferrer\" target=\"_blank\" href=\"https://scikit-learn.org/1.6/modules/generated/sklearn.naive_bayes.MultinomialNB.html\">?<span>Documentation for MultinomialNB</span></a><span class=\"sk-estimator-doc-link fitted\">i<span>Fitted</span></span></div></label><div class=\"sk-toggleable__content fitted\"><pre>MultinomialNB(class_prior=[0.7, 0.3])</pre></div> </div></div></div></div>"
            ],
            "text/plain": [
              "MultinomialNB(class_prior=[0.7, 0.3])"
            ]
          },
          "execution_count": 62,
          "metadata": {},
          "output_type": "execute_result"
        }
      ],
      "source": [
        "from sklearn.naive_bayes import MultinomialNB\n",
        "ham_weight = 747/5572\n",
        "spam_weight = 4825/5572\n",
        "mnb_model = MultinomialNB(class_prior=[ham_weight, spam_weight])\n",
        "mnb = MultinomialNB(class_prior=[0.7, 0.3])\n",
        "mnb.fit(x_train, y_train)"
      ]
    },
    {
      "cell_type": "code",
      "execution_count": 63,
      "metadata": {
        "colab": {
          "base_uri": "https://localhost:8080/"
        },
        "id": "RlmaTPsyx8h5",
        "outputId": "cbbf237e-4b20-4765-d684-7c6d0e3d9805"
      },
      "outputs": [
        {
          "name": "stdout",
          "output_type": "stream",
          "text": [
            "              precision    recall  f1-score   support\n",
            "\n",
            "           0     0.9522    0.9676    0.9599       309\n",
            "           1     0.9648    0.9481    0.9564       289\n",
            "\n",
            "    accuracy                         0.9582       598\n",
            "   macro avg     0.9585    0.9579    0.9581       598\n",
            "weighted avg     0.9583    0.9582    0.9582       598\n",
            "\n"
          ]
        }
      ],
      "source": [
        "y_pred_MNB = nb_model.predict(x_test)\n",
        "print(classification_report(y_pred_MNB, y_test, labels=None, digits=4))"
      ]
    },
    {
      "cell_type": "code",
      "execution_count": 64,
      "metadata": {
        "colab": {
          "base_uri": "https://localhost:8080/"
        },
        "id": "JX5QhGXlyA4t",
        "outputId": "1b773c34-2ee9-42c6-e5ac-2a98ae86b1a3"
      },
      "outputs": [
        {
          "name": "stdout",
          "output_type": "stream",
          "text": [
            "              precision    recall  f1-score   support\n",
            "\n",
            "           0     0.9833    0.9363    0.9592       314\n",
            "           1     0.9331    0.9824    0.9571       284\n",
            "\n",
            "    accuracy                         0.9582       598\n",
            "   macro avg     0.9582    0.9594    0.9582       598\n",
            "weighted avg     0.9595    0.9582    0.9582       598\n",
            "\n"
          ]
        }
      ],
      "source": [
        "gnb_model = GaussianNB()\n",
        "gnb_model.fit(x_train, y_train)\n",
        "pred_GNB = gnb_model.predict_proba(x_test)\n",
        "adjusted_proba = pred_GNB * [ham_weight, spam_weight]\n",
        "adjusted_class_labels = np.argmax(adjusted_proba, axis=1)\n",
        "print(classification_report(y_test, adjusted_class_labels, digits=4))"
      ]
    },
    {
      "cell_type": "code",
      "execution_count": 66,
      "metadata": {
        "colab": {
          "base_uri": "https://localhost:8080/"
        },
        "id": "ZCDpKsRHyKPz",
        "outputId": "bc226bce-b00a-4d59-fc1d-ac74c7baac6f"
      },
      "outputs": [
        {
          "name": "stdout",
          "output_type": "stream",
          "text": [
            "              precision    recall  f1-score   support\n",
            "\n",
            "           0     0.9558    0.9650    0.9604       314\n",
            "           1     0.9609    0.9507    0.9558       284\n",
            "\n",
            "    accuracy                         0.9582       598\n",
            "   macro avg     0.9583    0.9578    0.9581       598\n",
            "weighted avg     0.9582    0.9582    0.9582       598\n",
            "\n"
          ]
        }
      ],
      "source": [
        "num_negatives = sum(y_train == 0)\n",
        "num_positives = sum(y_train == 1)\n",
        "scale_pos_weight = num_negatives / num_positives\n",
        "\n",
        "xgb_clf = XGBClassifier(\n",
        "    base_score=0.5,\n",
        "    booster='gbtree',\n",
        "    colsample_bylevel=1,\n",
        "    colsample_bynode=1,\n",
        "    colsample_bytree=1,\n",
        "    gamma=0,\n",
        "    learning_rate=0.1,\n",
        "    max_delta_step=0,\n",
        "    max_depth=10,\n",
        "    min_child_weight=1,\n",
        "    missing=1,\n",
        "    n_estimators=150,\n",
        "    n_jobs=1,\n",
        "    objective='binary:logistic',\n",
        "    random_state=0,\n",
        "    reg_alpha=0,\n",
        "    reg_lambda=1,\n",
        "    scale_pos_weight=scale_pos_weight,\n",
        "    subsample=1,\n",
        "    verbosity=1\n",
        ")\n",
        "\n",
        "xgb_clf.fit(x_train, y_train)\n",
        "pred_X = xgb_clf.predict(x_test)\n",
        "\n",
        "print(classification_report(y_test, pred_X, labels=None, digits=4))"
      ]
    },
    {
      "cell_type": "code",
      "execution_count": 67,
      "metadata": {
        "colab": {
          "base_uri": "https://localhost:8080/"
        },
        "id": "m9MJjB2cyKSQ",
        "outputId": "676a5ede-da24-40a4-f3c9-1f0de0b4fe2c"
      },
      "outputs": [
        {
          "name": "stdout",
          "output_type": "stream",
          "text": [
            "              precision    recall  f1-score   support\n",
            "\n",
            "           0     0.9572    0.9968    0.9766       314\n",
            "           1     0.9963    0.9507    0.9730       284\n",
            "\n",
            "    accuracy                         0.9749       598\n",
            "   macro avg     0.9767    0.9738    0.9748       598\n",
            "weighted avg     0.9758    0.9749    0.9749       598\n",
            "\n"
          ]
        }
      ],
      "source": [
        "rdF = RF(\n",
        "    n_estimators=20,\n",
        "    max_depth=100,\n",
        "    random_state=64,\n",
        "    class_weight='balanced'\n",
        ")\n",
        "\n",
        "rdF.fit(x_train, y_train)\n",
        "\n",
        "pred_RF = rdF.predict(x_test)\n",
        "print(classification_report(y_test, pred_RF, labels=None, digits=4))"
      ]
    },
    {
      "cell_type": "code",
      "execution_count": 68,
      "metadata": {
        "colab": {
          "base_uri": "https://localhost:8080/"
        },
        "id": "8h4EYrAxyKVp",
        "outputId": "c7bf2043-7b43-47c0-e80b-7399a4bc188f"
      },
      "outputs": [
        {
          "name": "stdout",
          "output_type": "stream",
          "text": [
            "              precision    recall  f1-score   support\n",
            "\n",
            "           0     0.9637    0.9299    0.9465       314\n",
            "           1     0.9254    0.9613    0.9430       284\n",
            "\n",
            "    accuracy                         0.9448       598\n",
            "   macro avg     0.9446    0.9456    0.9448       598\n",
            "weighted avg     0.9455    0.9448    0.9448       598\n",
            "\n"
          ]
        }
      ],
      "source": [
        "clf = DecisionTreeClassifier(\n",
        "    class_weight='balanced',\n",
        "    random_state=42\n",
        ")\n",
        "\n",
        "clf.fit(x_train, y_train)\n",
        "\n",
        "pred_clf = clf.predict(x_test)\n",
        "\n",
        "print(classification_report(y_test, pred_clf, labels=None, digits=4))"
      ]
    },
    {
      "cell_type": "code",
      "execution_count": 54,
      "metadata": {
        "colab": {
          "base_uri": "https://localhost:8080/"
        },
        "id": "VbEiYzK-trfD",
        "outputId": "519840fd-be8f-4313-e44d-7d2250e313ed"
      },
      "outputs": [
        {
          "name": "stdout",
          "output_type": "stream",
          "text": [
            "After undersampling: Counter({np.int64(0): 1494, np.int64(1): 747})\n",
            "After oversampling: Counter({np.int64(0): 1494, np.int64(1): 1494})\n"
          ]
        }
      ],
      "source": [
        "from imblearn.over_sampling import SMOTE\n",
        "from imblearn.under_sampling import RandomUnderSampler\n",
        "from imblearn.combine import SMOTEENN\n",
        "from collections import Counter\n",
        "\n",
        "undersampler = RandomUnderSampler(sampling_strategy=0.5, random_state=42)\n",
        "oversampler = SMOTE(sampling_strategy=1.0, random_state=42)\n",
        "x_under, y_under = undersampler.fit_resample(x, y)\n",
        "print(f\"After undersampling: {Counter(y_under)}\")\n",
        "\n",
        "x_resampled, y_resampled = oversampler.fit_resample(x_under, y_under)\n",
        "print(f\"After oversampling: {Counter(y_resampled)}\")\n",
        "\n",
        "x_train, x_test, y_train, y_test = train_test_split(x_resampled, y_resampled, test_size=0.2, random_state=42)"
      ]
    },
    {
      "cell_type": "code",
      "execution_count": 55,
      "metadata": {
        "colab": {
          "base_uri": "https://localhost:8080/"
        },
        "id": "U2_tlbf3trhq",
        "outputId": "fbc978de-9264-41be-f9fc-9dbfaafad30a"
      },
      "outputs": [
        {
          "name": "stdout",
          "output_type": "stream",
          "text": [
            "              precision    recall  f1-score   support\n",
            "\n",
            "           0     0.9522    0.9676    0.9599       309\n",
            "           1     0.9648    0.9481    0.9564       289\n",
            "\n",
            "    accuracy                         0.9582       598\n",
            "   macro avg     0.9585    0.9579    0.9581       598\n",
            "weighted avg     0.9583    0.9582    0.9582       598\n",
            "\n"
          ]
        }
      ],
      "source": [
        "nb_model = MultinomialNB()\n",
        "nb_model.fit(x_train, y_train)\n",
        "y_pred_MNB = nb_model.predict(x_test)\n",
        "print(classification_report(y_pred_MNB, y_test, labels=None, digits=4))"
      ]
    },
    {
      "cell_type": "code",
      "execution_count": 56,
      "metadata": {
        "colab": {
          "base_uri": "https://localhost:8080/"
        },
        "id": "dlCiGwXZtrkA",
        "outputId": "883deae4-46d8-4ed1-920e-19154050e6f3"
      },
      "outputs": [
        {
          "name": "stdout",
          "output_type": "stream",
          "text": [
            "              precision    recall  f1-score   support\n",
            "\n",
            "           0     0.9363    0.9833    0.9592       299\n",
            "           1     0.9824    0.9331    0.9571       299\n",
            "\n",
            "    accuracy                         0.9582       598\n",
            "   macro avg     0.9594    0.9582    0.9582       598\n",
            "weighted avg     0.9594    0.9582    0.9582       598\n",
            "\n"
          ]
        }
      ],
      "source": [
        "gnb = GaussianNB()\n",
        "gnb.fit(x_train, y_train)\n",
        "pred_GNB = gnb.predict(x_test)\n",
        "\n",
        "print(classification_report(pred_GNB, y_test, labels=None, digits=4))"
      ]
    },
    {
      "cell_type": "code",
      "execution_count": 69,
      "metadata": {
        "colab": {
          "base_uri": "https://localhost:8080/"
        },
        "id": "eBv7uVFttzqY",
        "outputId": "c7af39be-f54f-498d-a15d-aa72e5481cda"
      },
      "outputs": [
        {
          "name": "stdout",
          "output_type": "stream",
          "text": [
            "              precision    recall  f1-score   support\n",
            "\n",
            "           0     0.9968    0.9456    0.9705       331\n",
            "           1     0.9366    0.9963    0.9655       267\n",
            "\n",
            "    accuracy                         0.9682       598\n",
            "   macro avg     0.9667    0.9709    0.9680       598\n",
            "weighted avg     0.9699    0.9682    0.9683       598\n",
            "\n"
          ]
        }
      ],
      "source": [
        "bnb = BernoulliNB()\n",
        "bnb.fit(x_train, y_train)\n",
        "pred_BNB = bnb.predict(x_test)\n",
        "print(classification_report(pred_BNB, y_test, labels=None, digits=4))"
      ]
    },
    {
      "cell_type": "code",
      "execution_count": 70,
      "metadata": {
        "colab": {
          "base_uri": "https://localhost:8080/"
        },
        "id": "1G59LjrVtzty",
        "outputId": "d3e2588f-31e0-442b-faec-68f120d062f7"
      },
      "outputs": [
        {
          "name": "stdout",
          "output_type": "stream",
          "text": [
            "              precision    recall  f1-score   support\n",
            "\n",
            "           0     0.9968    0.9456    0.9705       331\n",
            "           1     0.9366    0.9963    0.9655       267\n",
            "\n",
            "    accuracy                         0.9682       598\n",
            "   macro avg     0.9667    0.9709    0.9680       598\n",
            "weighted avg     0.9699    0.9682    0.9683       598\n",
            "\n"
          ]
        }
      ],
      "source": [
        "xgb_clf = XGBClassifier()\n",
        "xgb_clf=XGBClassifier(base_score=0.5, booster='gbtree', colsample_bylevel=1,\n",
        "              colsample_bynode=1, colsample_bytree=1, gamma=0,\n",
        "              learning_rate=0.1, max_delta_step=0, max_depth=10,\n",
        "              min_child_weight=1, missing=1, n_estimators=150, n_jobs=1,\n",
        "              nthread=None, objective='binary:logistic', random_state=0,\n",
        "              reg_alpha=0, reg_lambda=1, scale_pos_weight=1, seed=None,\n",
        "              silent=None, subsample=1, verbosity=1)\n",
        "\n",
        "xgb_clf.fit(x_train, y_train)\n",
        "pred_X = bnb.predict(x_test)\n",
        "print(classification_report(pred_X, y_test, labels=None, digits=4))"
      ]
    },
    {
      "cell_type": "code",
      "execution_count": 71,
      "metadata": {
        "colab": {
          "base_uri": "https://localhost:8080/"
        },
        "id": "UDO63UuYzAF6",
        "outputId": "760278ca-0298-4eb9-e78e-f69d9c30f516"
      },
      "outputs": [
        {
          "name": "stdout",
          "output_type": "stream",
          "text": [
            "              precision    recall  f1-score   support\n",
            "\n",
            "           0     0.9936    0.9571    0.9750       326\n",
            "           1     0.9507    0.9926    0.9712       272\n",
            "\n",
            "    accuracy                         0.9732       598\n",
            "   macro avg     0.9722    0.9749    0.9731       598\n",
            "weighted avg     0.9741    0.9732    0.9733       598\n",
            "\n"
          ]
        }
      ],
      "source": [
        "rdF = RF(n_estimators=20, max_depth=100,random_state=64)\n",
        "rdF.fit(x_train, y_train)\n",
        "pred_RF = rdF.predict(x_test)\n",
        "print(classification_report(pred_RF, y_test, labels=None, digits=4))"
      ]
    },
    {
      "cell_type": "code",
      "execution_count": 72,
      "metadata": {
        "colab": {
          "base_uri": "https://localhost:8080/"
        },
        "id": "JyH0A29_zAKb",
        "outputId": "96f46849-aa3f-4eea-eb5c-d5dbff2bbca5"
      },
      "outputs": [
        {
          "name": "stdout",
          "output_type": "stream",
          "text": [
            "              precision    recall  f1-score   support\n",
            "\n",
            "           0     0.9108    0.9565    0.9331       299\n",
            "           1     0.9542    0.9064    0.9297       299\n",
            "\n",
            "    accuracy                         0.9314       598\n",
            "   macro avg     0.9325    0.9314    0.9314       598\n",
            "weighted avg     0.9325    0.9314    0.9314       598\n",
            "\n"
          ]
        }
      ],
      "source": [
        "clf = DecisionTreeClassifier()\n",
        "clf.fit(x_train, y_train)\n",
        "\n",
        "pred_clf = clf.predict(x_test)\n",
        "\n",
        "print(classification_report(pred_clf, y_test, labels=None, digits=4))"
      ]
    },
    {
      "cell_type": "code",
      "execution_count": null,
      "metadata": {
        "id": "YayLkHl9zANz"
      },
      "outputs": [],
      "source": []
    }
  ],
  "metadata": {
    "colab": {
      "provenance": []
    },
    "kernelspec": {
      "display_name": "Python 3",
      "name": "python3"
    },
    "language_info": {
      "name": "python"
    }
  },
  "nbformat": 4,
  "nbformat_minor": 0
}
